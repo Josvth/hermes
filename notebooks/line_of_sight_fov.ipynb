{
 "cells": [
  {
   "cell_type": "code",
   "execution_count": 1,
   "metadata": {},
   "outputs": [
    {
     "name": "stdout",
     "output_type": "stream",
     "text": [
      "Notebook initialized with ipy backend.\n"
     ]
    }
   ],
   "source": [
    "from hermes.analysis import LOSAnalysis\n",
    "from hermes.scenario import Scenario\n",
    "from hermes.objects import Earth, Satellite, SatGroup\n",
    "\n",
    "from astropy import time, units as u\n",
    "from mayavi import mlab\n",
    "from tvtk.api import tvtk\n",
    "from hermes.util import hex2rgb\n",
    "from hermes.visualisation import Visualisation3DGIL\n",
    "\n",
    "mlab.init_notebook('ipy', local=True)\n",
    "\n",
    "# PDF exporter defaults\n",
    "ex = tvtk.GL2PSExporter()\n",
    "ex.file_format = 'pdf'\n",
    "ex.sort = 'bsp'\n",
    "ex.compress = 1\n",
    "#ex.edit_traits(kind='livemodal')\n",
    "\n",
    "figures_dir = 'D:/git/thesis_report_ae/figures'\n",
    "\n",
    "start = time.Time('2019-09-01 10:00:00.000', scale='tt')        # Start time of simulation\n",
    "stop = time.Time('2019-09-01 11:00:00.000', scale='tt')         # Stop time of simulation\n",
    "step = 1 * u.s\n"
   ]
  },
  {
   "cell_type": "markdown",
   "metadata": {
    "pycharm": {
     "name": "#%% md\n"
    }
   },
   "source": [
    "# Outside field-of-view"
   ]
  },
  {
   "cell_type": "code",
   "execution_count": 7,
   "metadata": {
    "pycharm": {
     "name": "#%%\n"
    }
   },
   "outputs": [
    {
     "name": "stdout",
     "output_type": "stream",
     "text": [
      "Initializing attractor\n",
      "Initializing 2 satellites...\n",
      "Initializing analysis 1 of 1...\n"
     ]
    },
    {
     "data": {
      "application/vnd.jupyter.widget-view+json": {
       "model_id": "d453cfa43075417392daacca2dce7d1c",
       "version_major": 2,
       "version_minor": 0
      },
      "text/plain": [
       "Image(value=b'\\x89PNG\\r\\n\\x1a\\n\\x00\\x00\\x00\\rIHDR\\x00\\x00\\x04\\xb0\\x00\\x00\\x04\\xb0\\x08\\x02\\x00\\x00\\x00dC$\\x98\\x…"
      ]
     },
     "metadata": {},
     "output_type": "display_data"
    }
   ],
   "source": [
    "scenario = Scenario(start, stop, step, Earth)\n",
    "\n",
    "# Make a new Satellite object and give it a cyan color\n",
    "sat1 = Satellite.circular(Earth.poli_body, 550 * u.km, inc=40 * u.deg, raan=90 * u.deg, arglat=85 * u.deg)\n",
    "sat1.color = hex2rgb('#00ffff')\n",
    "\n",
    "sat2 = Satellite.circular(Earth.poli_body, 2000 * u.km, inc=75 * u.deg, raan=30 * u.deg, arglat=135 * u.deg)\n",
    "sat2.color = hex2rgb('#ffff00')\n",
    "sat2.fov_3D_show = True\n",
    "sat2.fov_3D_opacity = 0.3\n",
    "sat2.fov = 30 * u.deg\n",
    "\n",
    "# And we add it to the scenario\n",
    "scenario.add_satellite(sat1)\n",
    "scenario.add_satellite(sat2)\n",
    "\n",
    "# Add line-of-sight analysis\n",
    "los_analysis = LOSAnalysis(scenario, sat1, sat2)\n",
    "los_analysis.show_nolos = True\n",
    "\n",
    "scenario.add_analysis(los_analysis)\n",
    "\n",
    "# Initialize the scenario\n",
    "scenario.initialize()\n",
    "\n",
    "vis = Visualisation3DGIL(scenario)\n",
    "\n",
    "vis.visualise()\n",
    "mlab.view(azimuth=90, elevation=60)\n",
    "\n",
    "mlab.savefig(figures_dir + '/inside_fov.pdf', exp=ex)\n",
    "\n",
    "vis.figure\n"
   ]
  },
  {
   "cell_type": "markdown",
   "metadata": {
    "pycharm": {
     "name": "#%%\n"
    }
   },
   "source": [
    "# Inside field-of-view"
   ]
  },
  {
   "cell_type": "code",
   "execution_count": 8,
   "metadata": {
    "pycharm": {
     "name": "#%%\n"
    }
   },
   "outputs": [
    {
     "name": "stdout",
     "output_type": "stream",
     "text": [
      "Initializing attractor\n",
      "Initializing 2 satellites...\n",
      "Initializing analysis 1 of 1...\n"
     ]
    },
    {
     "data": {
      "application/vnd.jupyter.widget-view+json": {
       "model_id": "c5e5b886c45c44209b9fcc663e650bb7",
       "version_major": 2,
       "version_minor": 0
      },
      "text/plain": [
       "Image(value=b'\\x89PNG\\r\\n\\x1a\\n\\x00\\x00\\x00\\rIHDR\\x00\\x00\\x04\\xb0\\x00\\x00\\x04\\xb0\\x08\\x02\\x00\\x00\\x00dC$\\x98\\x…"
      ]
     },
     "metadata": {},
     "output_type": "display_data"
    }
   ],
   "source": [
    "scenario = Scenario(start, stop, step, Earth)\n",
    "\n",
    "# Make a new Satellite object and give it a cyan color\n",
    "sat1 = Satellite.circular(Earth.poli_body, 550 * u.km, inc=40 * u.deg, raan=90 * u.deg, arglat=105 * u.deg)\n",
    "sat1.color = hex2rgb('#00ffff')\n",
    "\n",
    "sat2 = Satellite.circular(Earth.poli_body, 2000 * u.km, inc=75 * u.deg, raan=30 * u.deg, arglat=135 * u.deg)\n",
    "sat2.color = hex2rgb('#ffff00')\n",
    "sat2.fov_3D_show = True\n",
    "sat2.fov_3D_opacity = 0.3\n",
    "sat2.fov = 30 * u.deg\n",
    "\n",
    "# And we add it to the scenario\n",
    "scenario.add_satellite(sat1)\n",
    "scenario.add_satellite(sat2)\n",
    "\n",
    "# Add line-of-sight analysis\n",
    "los_analysis = LOSAnalysis(scenario, sat1, sat2)\n",
    "los_analysis.show_nolos = True\n",
    "\n",
    "scenario.add_analysis(los_analysis)\n",
    "\n",
    "# Initialize the scenario\n",
    "scenario.initialize()\n",
    "\n",
    "vis = Visualisation3DGIL(scenario)\n",
    "\n",
    "vis.visualise()\n",
    "mlab.view(azimuth=90, elevation=60)\n",
    "\n",
    "mlab.savefig(figures_dir + '/inside_fov.pdf', exp=ex)\n",
    "\n",
    "vis.figure\n"
   ]
  }
 ],
 "metadata": {
  "kernelspec": {
   "display_name": "Python 3",
   "language": "python",
   "name": "python3"
  },
  "language_info": {
   "codemirror_mode": {
    "name": "ipython",
    "version": 3
   },
   "file_extension": ".py",
   "mimetype": "text/x-python",
   "name": "python",
   "nbconvert_exporter": "python",
   "pygments_lexer": "ipython3",
   "version": "3.7.8"
  }
 },
 "nbformat": 4,
 "nbformat_minor": 1
}