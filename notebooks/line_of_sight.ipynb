{
 "cells": [
  {
   "cell_type": "code",
   "execution_count": 5,
   "metadata": {},
   "outputs": [
    {
     "name": "stdout",
     "output_type": "stream",
     "text": [
      "Notebook initialized with ipy backend.\n"
     ]
    }
   ],
   "source": [
    "from hermes.analysis import LOSAnalysis\n",
    "from hermes.scenario import Scenario\n",
    "from hermes.objects import Earth, Satellite, SatGroup\n",
    "\n",
    "from astropy import time, units as u\n",
    "from mayavi import mlab\n",
    "from tvtk.api import tvtk\n",
    "from hermes.util import hex2rgb\n",
    "from hermes.visualisation import Visualisation3DGIL\n",
    "\n",
    "mlab.init_notebook('ipy')\n",
    "\n",
    "# PDF exporter defaults\n",
    "ex = tvtk.GL2PSExporter()\n",
    "ex.file_format = 'pdf'\n",
    "ex.sort = 'bsp'\n",
    "ex.compress = 1\n",
    "#ex.edit_traits(kind='livemodal')\n",
    "\n",
    "figures_dir = 'D:/git/thesis_report_ae/figures'\n",
    "\n",
    "start = time.Time('2019-09-01 10:00:00.000', scale='tt')        # Start time of simulation\n",
    "stop = time.Time('2019-09-01 11:00:00.000', scale='tt')         # Stop time of simulation\n",
    "step = 1 * u.s\n",
    "\n",
    "point = time.Time('2019-09-01 8:00:00.000', scale='tt')\n"
   ]
  },
  {
   "cell_type": "markdown",
   "metadata": {
    "pycharm": {
     "name": "#%% md\n"
    }
   },
   "source": [
    "# Blockage"
   ]
  },
  {
   "cell_type": "code",
   "execution_count": 6,
   "metadata": {
    "pycharm": {
     "name": "#%%\n"
    }
   },
   "outputs": [
    {
     "name": "stdout",
     "output_type": "stream",
     "text": [
      "Initializing attractor\n",
      "Initializing 5 satellites...\n",
      "Initializing analysis 1 of 1...\n"
     ]
    },
    {
     "data": {
      "application/vnd.jupyter.widget-view+json": {
       "model_id": "8dd3e79c451949ec9d19ee4e70b81679",
       "version_major": 2,
       "version_minor": 0
      },
      "text/plain": [
       "Image(value=b'\\x89PNG\\r\\n\\x1a\\n\\x00\\x00\\x00\\rIHDR\\x00\\x00\\x04\\xb0\\x00\\x00\\x04\\xb0\\x08\\x02\\x00\\x00\\x00dC$\\x98\\x…"
      ]
     },
     "metadata": {},
     "output_type": "display_data"
    }
   ],
   "source": [
    "scenario = Scenario(start, stop, step, Earth)\n",
    "\n",
    "# Make a new Satellite object and give it a cyan color\n",
    "sat1 = Satellite.circular(Earth.poli_body, 2000 * u.km, inc=45 * u.deg, raan=90 * u.deg, arglat=30 * u.deg)\n",
    "sat1.color = hex2rgb('#00ffff')\n",
    "\n",
    "sat2 = Satellite.circular(Earth.poli_body, 2000 * u.km, inc=165 * u.deg, raan=30 * u.deg, arglat=30 * u.deg)\n",
    "sat2.color = hex2rgb('#B10DC9')\n",
    "\n",
    "sat3 = Satellite.circular(Earth.poli_body, 2500 * u.km, inc=60 * u.deg, raan=10 * u.deg, arglat=70 * u.deg)\n",
    "sat3.color = hex2rgb('#FFDC00')\n",
    "\n",
    "sat4 = Satellite.circular(Earth.poli_body, 3000 * u.km, inc=45 * u.deg, raan=110 * u.deg, arglat=210 * u.deg)\n",
    "sat4.color = hex2rgb('#001f3f')\n",
    "\n",
    "sat5 = Satellite.circular(Earth.poli_body, 3500 * u.km, inc=110 * u.deg, raan=70 * u.deg, arglat=0 * u.deg)\n",
    "sat5.color = hex2rgb('#FF851B') #0074D9\n",
    "\n",
    "group = SatGroup()\n",
    "group.append((sat2, sat3, sat4, sat5))\n",
    "\n",
    "# And we add it to the scenario\n",
    "scenario.add_satellite(sat1)\n",
    "scenario.add_satellite(group)\n",
    "\n",
    "# Add line-of-sight analysis\n",
    "los_analysis = LOSAnalysis(scenario, sat1, group)\n",
    "los_analysis.check_fov = False\n",
    "\n",
    "scenario.add_analysis(los_analysis)\n",
    "\n",
    "# Initialize\n",
    "scenario.initialize()\n",
    "\n",
    "scenario.step_to(point)\n",
    "\n",
    "vis = Visualisation3DGIL(scenario)\n",
    "vis.visualise()\n",
    "\n",
    "mlab.savefig(figures_dir + '/los_blockage.pdf', exp=ex)\n",
    "mlab.view(45, 60)\n",
    "vis.figure\n",
    "\n"
   ]
  },
  {
   "cell_type": "code",
   "execution_count": null,
   "metadata": {},
   "outputs": [],
   "source": []
  }
 ],
 "metadata": {
  "kernelspec": {
   "display_name": "Python 3",
   "language": "python",
   "name": "python3"
  },
  "language_info": {
   "codemirror_mode": {
    "name": "ipython",
    "version": 3
   },
   "file_extension": ".py",
   "mimetype": "text/x-python",
   "name": "python",
   "nbconvert_exporter": "python",
   "pygments_lexer": "ipython3",
   "version": "3.7.8"
  }
 },
 "nbformat": 4,
 "nbformat_minor": 1
}