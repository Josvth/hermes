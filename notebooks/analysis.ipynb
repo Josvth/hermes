{
 "cells": [
  {
   "cell_type": "code",
   "execution_count": 42,
   "metadata": {
    "collapsed": true
   },
   "outputs": [],
   "source": [
    "import numpy as np\n",
    "import pandas as pd\n",
    "import matplotlib\n",
    "\n",
    "matplotlib.use(\"pgf\")\n",
    "matplotlib.rcParams.update({\n",
    "    \"pgf.texsystem\": \"xelatex\",\n",
    "    'font.family': 'sans-serif',\n",
    "    'text.usetex': False,\n",
    "    'pgf.rcfonts': False\n",
    "})\n",
    "\n",
    "import matplotlib.pyplot as plt\n",
    "from poliastro.bodies import Earth\n",
    "from tqdm import tqdm\n",
    "from astropy import units as u\n",
    "from notebooks.PlotUtil import apply_report_formatting\n",
    "\n",
    "\n",
    "figures_dir = 'D:/git/thesis_report_ae/figures'\n",
    "\n",
    "def generate_pass_df(instance_df):\n",
    "    starts = instance_df.groupby(['p', 'strand_name'], as_index = False).first(1)\n",
    "    starts.index.name = 'p'\n",
    "    starts.rename(columns= {'tof': 'start_tof'}, inplace=True)\n",
    "    ends = instance_df.groupby(['p', 'strand_name'], as_index = False).last(1)\n",
    "    ends.index.name = 'p'\n",
    "    ends.rename(columns= {'tof': 'end_tof'}, inplace=True)\n",
    "\n",
    "    pass_df = pd.concat([starts, ends.end_tof], axis=1)\n",
    "    pass_df['duration'] = pass_df['end_tof'] - pass_df['start_tof']\n",
    "\n",
    "    pass_df['r_b_norm'] = np.sqrt(pass_df['r_b_x']**2 + pass_df['r_b_y']**2 + pass_df['r_b_z']**2)\n",
    "\n",
    "    return pass_df\n",
    "\n",
    "def generate_gap_df(pass_df, step_duration = 1.0, end_tof = None):\n",
    "\n",
    "    if end_tof is None:\n",
    "        end_tof = pass_df['end_tof'].max()\n",
    "\n",
    "    gaps = []\n",
    "\n",
    "    for i in tqdm(range(len(pass_df) - 1)):\n",
    "        current_pass = pass_df.loc[i]\n",
    "        next_pass = pass_df.loc[i + 1]\n",
    "\n",
    "        if next_pass.start_tof - current_pass.end_tof > step_duration:\n",
    "            gaps.append({'start_tof': current_pass.end_tof,\n",
    "                         'end_tof': next_pass.start_tof,\n",
    "                         'duration': next_pass.start_tof - current_pass.end_tof})\n",
    "\n",
    "\n",
    "    return pd.DataFrame(gaps)"
   ]
  },
  {
   "cell_type": "markdown",
   "source": [
    "# Telesat"
   ],
   "metadata": {
    "collapsed": false
   }
  },
  {
   "cell_type": "code",
   "execution_count": 2,
   "outputs": [
    {
     "name": "stdout",
     "output_type": "stream",
     "text": [
      "Getting data...\n"
     ]
    }
   ],
   "source": [
    "# columns = ['strand_name', 'tof', 'r_b_x', 'r_b_y', 'r_b_z']\n",
    "#\n",
    "# store = pd.HDFStore(\"C:/git/hermes-simulator/visibility_analysis/Test_LOSAnalysis_sat_500km_to_Telesat_2020-12-30_14-58-21.h5\")\n",
    "# print('Getting data...')\n",
    "# instances_df = store.select('contact_instances', 'columns = %s' % str(columns))"
   ],
   "metadata": {
    "collapsed": false,
    "pycharm": {
     "name": "#%%\n"
    }
   }
  },
  {
   "cell_type": "code",
   "execution_count": 43,
   "outputs": [
    {
     "name": "stderr",
     "output_type": "stream",
     "text": [
      "100%|██████████| 19850/19850 [00:05<00:00, 3682.85it/s]\n",
      "100%|██████████| 17774/17774 [00:04<00:00, 3605.38it/s]\n"
     ]
    }
   ],
   "source": [
    "columns = ['strand_name', 'tof', 'r_b_x', 'r_b_y', 'r_b_z']\n",
    "\n",
    "store_500km = pd.HDFStore(\"C:/git/hermes-simulator/visibility_analysis/Test_LOSAnalysis_sat_500km_90deg_to_Telesat_2020-12-31_08-50-39.h5\")\n",
    "instances_500km_df = store_500km.select('contact_instances', 'columns = %s' % str(columns))\n",
    "pass_500km_df = generate_pass_df(instances_500km_df)\n",
    "gaps_500km_df = generate_gap_df(pass_500km_df)\n",
    "\n",
    "store_400km = pd.HDFStore(\"C:/git/hermes-simulator/visibility_analysis/Test_LOSAnalysis_sat_400km_51deg_to_Telesat_2020-12-31_08-50-33.h5\")\n",
    "instances_400km_df = store_400km.select('contact_instances', 'columns = %s' % str(columns))\n",
    "pass_400km_df = generate_pass_df(instances_400km_df)\n",
    "gaps_400km_df = generate_gap_df(pass_400km_df)\n"
   ],
   "metadata": {
    "collapsed": false,
    "pycharm": {
     "name": "#%%\n"
    }
   }
  },
  {
   "cell_type": "code",
   "execution_count": 45,
   "outputs": [
    {
     "name": "stderr",
     "output_type": "stream",
     "text": [
      "C:\\git\\hermes-simulator\\cenv\\lib\\site-packages\\ipykernel_launcher.py:25: UserWarning: Matplotlib is currently using pgf, which is a non-GUI backend, so cannot show the figure.\n",
      "C:\\git\\hermes-simulator\\cenv\\lib\\site-packages\\ipykernel_launcher.py:33: UserWarning: Matplotlib is currently using pgf, which is a non-GUI backend, so cannot show the figure.\n"
     ]
    }
   ],
   "source": [
    "def contact_timeline(pass_df):\n",
    "    fig, ax = plt.subplots(tight_layout=True, figsize=(3.2 * 2, 2.4))\n",
    "\n",
    "    tof_max = 3*5677.0\n",
    "\n",
    "    tofs = np.arange(tof_max)\n",
    "\n",
    "    def satellites_in_view(pass_df, tofs):\n",
    "        num_in_view = []\n",
    "        for tof in tofs:\n",
    "            in_view = (pass_df['start_tof'] <= tof) & (tof <= pass_df['end_tof'])\n",
    "            num_in_view.append(in_view.sum())\n",
    "        return num_in_view\n",
    "\n",
    "    ax.plot(tofs, satellites_in_view(pass_df, tofs))\n",
    "    ax.set_xlim((0, tof_max))\n",
    "    ax.set_ylim((0, 25))\n",
    "    ax.set_xlabel('Time-of-flight [s]')\n",
    "    ax.set_ylabel('Satellites in view')\n",
    "\n",
    "\n",
    "contact_timeline(pass_500km_df)\n",
    "apply_report_formatting()\n",
    "plt.tight_layout()\n",
    "plt.show()\n",
    "plt.savefig(figures_dir + '/Telesat_in_view_500km97deg.pgf')\n",
    "plt.savefig(figures_dir + '/Telesat_in_view_500km97deg.svg')\n",
    "plt.close()\n",
    "\n",
    "contact_timeline(pass_400km_df)\n",
    "apply_report_formatting()\n",
    "plt.tight_layout()\n",
    "plt.show()\n",
    "plt.savefig(figures_dir + '/Telesat_in_view_400km51deg.pgf')\n",
    "plt.savefig(figures_dir + '/Telesat_in_view_400km51deg.svg')\n",
    "plt.close()"
   ],
   "metadata": {
    "collapsed": false,
    "pycharm": {
     "name": "#%% # Contact timeline\n"
    }
   }
  },
  {
   "cell_type": "markdown",
   "source": [
    "## Pass duration occurences"
   ],
   "metadata": {
    "collapsed": false,
    "pycharm": {
     "name": "#%% md\n"
    }
   }
  },
  {
   "cell_type": "code",
   "execution_count": 49,
   "outputs": [
    {
     "data": {
      "text/plain": "<Figure size 230.4x172.8 with 1 Axes>",
      "image/png": "[encoded data removed]"
     },
     "metadata": {
      "needs_background": "light"
     },
     "output_type": "display_data"
    }
   ],
   "source": [
    "durations_np = pass_df.duration.to_numpy()\n",
    "\n",
    "fig, ax = plt.subplots(tight_layout=True, figsize=(3.2, 2.4))\n",
    "\n",
    "bin_size = 5\n",
    "bins = int(np.max(durations_np))\n",
    "bins = int(bins / bin_size) # x second bins\n",
    "\n",
    "n, bins, patches = ax.hist(durations_np, bins=bins, stacked=True)\n",
    "\n",
    "ax.set_xlabel('Duration of pass [s]')\n",
    "ax.set_ylabel('Occurrences in 7 days')\n",
    "ax.set_xlim((0, np.max(durations_np)))\n",
    "\n",
    "count = len(durations_np)\n",
    "average = np.average(durations_np)\n",
    "std_dev = np.std(durations_np)\n",
    "\n",
    "ax.text(0.5, 0.90,\n",
    "        '$N_{pass} = %d$\\n' % (count) +\n",
    "        '$t_{bin} = %ds$' % (bin_size),\n",
    "     horizontalalignment='left',\n",
    "     verticalalignment='top',\n",
    "     transform = ax.transAxes)\n",
    "\n",
    "plt.show()"
   ],
   "metadata": {
    "collapsed": false,
    "pycharm": {
     "name": "#%%\n"
    }
   }
  },
  {
   "cell_type": "markdown",
   "source": [
    "Gap duration occurences"
   ],
   "metadata": {
    "collapsed": false,
    "pycharm": {
     "name": "#%% md\n"
    }
   },
   "outputs": [
    {
     "ename": "SyntaxError",
     "evalue": "invalid syntax (<ipython-input-34-f1f453cd241f>, line 1)",
     "output_type": "error",
     "traceback": [
      "\u001B[1;36m  File \u001B[1;32m\"<ipython-input-34-f1f453cd241f>\"\u001B[1;36m, line \u001B[1;32m1\u001B[0m\n\u001B[1;33m    Gap duration occurences\u001B[0m\n\u001B[1;37m               ^\u001B[0m\n\u001B[1;31mSyntaxError\u001B[0m\u001B[1;31m:\u001B[0m invalid syntax\n"
     ]
    }
   ]
  },
  {
   "cell_type": "code",
   "execution_count": 52,
   "outputs": [
    {
     "data": {
      "text/plain": "<Figure size 230.4x172.8 with 1 Axes>",
      "image/png": "[encoded data removed]"
     },
     "metadata": {
      "needs_background": "light"
     },
     "output_type": "display_data"
    }
   ],
   "source": [
    "durations_np = gaps_df.duration.to_numpy()\n",
    "\n",
    "fig, ax = plt.subplots(tight_layout=True, figsize=(3.2, 2.4))\n",
    "\n",
    "bin_size = 5\n",
    "bins = int(np.max(durations_np))\n",
    "bins = int(bins / bin_size) # x second bins\n",
    "\n",
    "n, bins, patches = ax.hist(durations_np, bins=bins, stacked=True)\n",
    "\n",
    "ax.set_xlabel('Duration of gap [s]')\n",
    "ax.set_ylabel('Occurrences in 7 days')\n",
    "ax.set_xlim((0, np.max(durations_np)))\n",
    "\n",
    "count = len(durations_np)\n",
    "average = np.average(durations_np)\n",
    "std_dev = np.std(durations_np)\n",
    "\n",
    "ax.text(0.5, 0.90,\n",
    "        '$N_{pass} = %d$\\n' % (count) +\n",
    "        '$t_{bin} = %ds$' % (bin_size),\n",
    "     horizontalalignment='left',\n",
    "     verticalalignment='top',\n",
    "     transform = ax.transAxes)\n",
    "\n",
    "plt.show()"
   ],
   "metadata": {
    "collapsed": false,
    "pycharm": {
     "name": "#%%\n"
    }
   }
  },
  {
   "cell_type": "code",
   "execution_count": 40,
   "outputs": [
    {
     "data": {
      "text/plain": "2.000000000003638"
     },
     "execution_count": 40,
     "metadata": {},
     "output_type": "execute_result"
    }
   ],
   "source": [],
   "metadata": {
    "collapsed": false,
    "pycharm": {
     "name": "#%%\n"
    }
   }
  }
 ],
 "metadata": {
  "kernelspec": {
   "display_name": "Python 3",
   "language": "python",
   "name": "python3"
  },
  "language_info": {
   "codemirror_mode": {
    "name": "ipython",
    "version": 2
   },
   "file_extension": ".py",
   "mimetype": "text/x-python",
   "name": "python",
   "nbconvert_exporter": "python",
   "pygments_lexer": "ipython2",
   "version": "2.7.6"
  }
 },
 "nbformat": 4,
 "nbformat_minor": 0
}