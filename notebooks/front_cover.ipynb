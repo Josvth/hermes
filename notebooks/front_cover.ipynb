{
 "cells": [
  {
   "cell_type": "code",
   "execution_count": 8,
   "metadata": {
    "pycharm": {
     "name": "#%%\n"
    }
   },
   "outputs": [],
   "source": [
    "from hermes.analysis import LOSAnalysis\n",
    "from hermes.scenario import Scenario\n",
    "from hermes.objects import Earth, Satellite, SatGroup\n",
    "\n",
    "from astropy import time, units as u\n",
    "from mayavi import mlab\n",
    "from tvtk.api import tvtk\n",
    "from hermes.util import hex2rgb\n",
    "from hermes.visualisation import Visualisation3DGIL\n",
    "\n",
    "#mlab.init_notebook('ipy', local=True)\n",
    "#mlab.init_notebook('x3d', 800, 800)\n",
    "#mlab.init_notebook('png', 800, 800)\n",
    "\n",
    "# PDF exporter defaults\n",
    "ex = tvtk.GL2PSExporter()\n",
    "ex.file_format = 'pdf'\n",
    "ex.sort = 'bsp'\n",
    "ex.compress = 1\n",
    "#ex.edit_traits(kind='livemodal')\n",
    "\n",
    "figures_dir = 'D:/git/thesis_report_ae/figures'\n",
    "\n",
    "start = time.Time('2019-09-01 10:00:00.000', scale='tt')        # Start time of simulation\n",
    "stop = time.Time('2019-09-01 11:00:00.000', scale='tt')         # Stop time of simulation\n",
    "step = 1 * u.s"
   ]
  },
  {
   "cell_type": "code",
   "execution_count": 9,
   "metadata": {
    "pycharm": {
     "name": "#%%\n"
    }
   },
   "outputs": [
    {
     "name": "stdout",
     "output_type": "stream",
     "text": [
      "Initializing attractor\n",
      "Initializing 1672 satellites...\n",
      "Initializing analysis 1 of 1...\n"
     ]
    },
    {
     "data": {
      "text/plain": "(90.0,\n 59.99999999999999,\n 30979.01953125,\n array([0.        , 0.        , 0.00512695]))"
     },
     "execution_count": 9,
     "metadata": {},
     "output_type": "execute_result"
    }
   ],
   "source": [
    "scenario = Scenario(start, stop, step, Earth)\n",
    "\n",
    "# Make a new Satellite object and give it a cyan color\n",
    "sat1 = Satellite.circular(Earth.poli_body, 550 * u.km, inc=90 * u.deg, raan=40 * u.deg, arglat=60 * u.deg)\n",
    "sat1.color = hex2rgb('#00ffff')\n",
    "sat1.plane_3D_show = True\n",
    "\n",
    "# sat2 = Satellite.circular(Earth.poli_body, 2000 * u.km, inc=75 * u.deg, raan=30 * u.deg, arglat=135 * u.deg)\n",
    "# sat2.color = hex2rgb('#ffff00')\n",
    "# sat2.fov_3D_show = True\n",
    "# sat2.fov_3D_opacity = 0.3\n",
    "# sat2.fov = 30 * u.deg\n",
    "from hermes.constellations.Telesat import Telesat_00053\n",
    "telesat = Telesat_00053\n",
    "\n",
    "# And we add it to the scenario\n",
    "scenario.add_satellite(sat1)\n",
    "scenario.add_satellite(telesat)\n",
    "\n",
    "# Add line-of-sight analysis\n",
    "los_analysis = LOSAnalysis(scenario, sat1, telesat)\n",
    "\n",
    "scenario.add_analysis(los_analysis)\n",
    "\n",
    "# Initialize the scenario\n",
    "scenario.initialise()\n",
    "\n",
    "#f = mlab.figure(size=(1200*2, 1200*8*2), bgcolor=(1.0, 1.0, 1.0))\n",
    "#f = mlab.figure(size=(6430, 4670), bgcolor=(1.0, 1.0, 1.0))\n",
    "f = mlab.figure(size=(1200*4, 1200*4\n",
    "                      ), bgcolor=(1.0, 1.0, 1.0))\n",
    "\n",
    "vis = Visualisation3DGIL(scenario, figure=f)\n",
    "\n",
    "vis.visualise(scenario.state)\n",
    "mlab.view(azimuth=90, elevation=60)\n",
    "#mlab.show()\n",
    "\n",
    "#vis.figure\n"
   ]
  },
  {
   "cell_type": "code",
   "execution_count": 10,
   "metadata": {},
   "outputs": [
    {
     "name": "stdout",
     "output_type": "stream",
     "text": [
      "[90.0, 59.99999999999999, 30979.01953125, array([0.        , 0.        , 0.00512695])]\n"
     ]
    }
   ],
   "source": [
    "v = list(mlab.view())\n",
    "print(v)"
   ]
  },
  {
   "cell_type": "code",
   "execution_count": 11,
   "metadata": {},
   "outputs": [
    {
     "name": "stdout",
     "output_type": "stream",
     "text": [
      "[90.0, 59.99999999999999, 30979.01953125, array([0.        , 0.        , 0.00512695])]\n"
     ]
    }
   ],
   "source": [
    "vv = v\n",
    "print(v)"
   ]
  },
  {
   "cell_type": "code",
   "execution_count": 12,
   "metadata": {},
   "outputs": [],
   "source": [
    "# import numpy as np\n",
    "# vv[1] = 70\n",
    "# vv[2] = 21500\n",
    "# vv[3] = np.array([0.5, -0.3, 0.5])*1e4\n",
    "# mlab.view(*vv)\n",
    "# import numpy as np\n",
    "# vv[1] = 70\n",
    "# vv[2] = 2500*5\n",
    "# vv[3] = np.array([0.5, -0.4, 0.45])*1e4\n",
    "# mlab.view(*vv)\n",
    "import numpy as np\n",
    "#vv[1] = 70\n",
    "#vv[2] = 2500*5\n",
    "#vv[3] = np.array([0.1, 0, 0])*1e4\n",
    "#mlab.view(*vv)\n",
    "#mlab.show(stop=True)\n",
    "#vis.figure"
   ]
  },
  {
   "cell_type": "code",
   "execution_count": 13,
   "metadata": {},
   "outputs": [],
   "source": [
    "mlab.savefig(figures_dir + '/cover.pdf', exp=ex)"
   ]
  },
  {
   "cell_type": "code",
   "execution_count": 14,
   "metadata": {},
   "outputs": [],
   "source": [
    "#vis.figure"
   ]
  },
  {
   "cell_type": "code",
   "execution_count": 14,
   "outputs": [],
   "source": [],
   "metadata": {
    "collapsed": false,
    "pycharm": {
     "name": "#%%\n"
    }
   }
  }
 ],
 "metadata": {
  "kernelspec": {
   "display_name": "PyCharm (hermes-simulator)",
   "language": "python",
   "name": "pycharm-34b782de"
  },
  "language_info": {
   "codemirror_mode": {
    "name": "ipython",
    "version": 3
   },
   "file_extension": ".py",
   "mimetype": "text/x-python",
   "name": "python",
   "nbconvert_exporter": "python",
   "pygments_lexer": "ipython3",
   "version": "3.7.10"
  }
 },
 "nbformat": 4,
 "nbformat_minor": 1
}