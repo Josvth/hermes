{
 "cells": [
  {
   "cell_type": "code",
   "execution_count": 1,
   "metadata": {},
   "outputs": [
    {
     "name": "stdout",
     "output_type": "stream",
     "text": [
      "Notebook initialized with ipy backend.\n"
     ]
    }
   ],
   "source": [
    "from hermes.simulation import Scenario\n",
    "from hermes.objects import Earth, Satellite\n",
    "\n",
    "from astropy import time, units as u\n",
    "from mayavi import mlab\n",
    "from tvtk.api import tvtk\n",
    "\n",
    "mlab.init_notebook('ipy')\n",
    "\n",
    "# PDF exporter defaults\n",
    "ex = tvtk.GL2PSExporter()\n",
    "ex.file_format = 'pdf'\n",
    "ex.sort = 'bsp'\n",
    "ex.compress = 1\n",
    "#ex.edit_traits(kind='livemodal')\n",
    "\n",
    "figures_dir = 'D:/git/thesis_report_ae/figures'\n",
    "\n",
    "start = time.Time('2019-09-01 10:00:00.000', scale='tt')        # Start time of simulation\n",
    "stop = time.Time('2019-09-01 11:00:00.000', scale='tt')         # Stop time of simulation\n",
    "step = 1 * u.s\n",
    "\n",
    "point = time.Time('2019-09-01 8:00:00.000', scale='tt')\n"
   ]
  },
  {
   "cell_type": "markdown",
   "metadata": {},
   "source": [
    "# Telesat [SAT-MPL-20200526-00053]"
   ]
  },
  {
   "cell_type": "code",
   "execution_count": 2,
   "metadata": {
    "pycharm": {
     "name": "#%%\n"
    }
   },
   "outputs": [
    {
     "name": "stdout",
     "output_type": "stream",
     "text": [
      "Initializing object 1 of 1...\n",
      "Initializing 1671 satellites...\n"
     ]
    },
    {
     "data": {
      "application/vnd.jupyter.widget-view+json": {
       "model_id": "0f75fb24927e400d9679832e3ab4fb83",
       "version_major": 2,
       "version_minor": 0
      },
      "text/plain": [
       "Image(value=b'\\x89PNG\\r\\n\\x1a\\n\\x00\\x00\\x00\\rIHDR\\x00\\x00\\x07\\x08\\x00\\x00\\x07\\x08\\x08\\x02\\x00\\x00\\x00\\xa7\\xf1\\…"
      ]
     },
     "metadata": {},
     "output_type": "display_data"
    }
   ],
   "source": [
    "from hermes.constellations.Telesat import Telesat_00053\n",
    "\n",
    "\n",
    "fig = mlab.figure(size=(1800, 1800), bgcolor=(1.0, 1.0, 1.0))   # Make a new figure (similar to MATLAB)\n",
    "\n",
    "# Start by making a scenario we will add our simulation objects to\n",
    "scenario = Scenario(Earth, start, stop, step, figure=fig)\n",
    "\n",
    "# Add the constellation\n",
    "constellation = Telesat_00053\n",
    "scenario.add_satellite(constellation)\n",
    "\n",
    "# Initizalize scenario\n",
    "scenario.initialize()\n",
    "\n",
    "# Start animation\n",
    "scenario.draw_scenario()\n",
    "\n",
    "scenario.step_to(point, True)\n",
    "mlab.view(45, 60)\n",
    "mlab.savefig(figures_dir + '/Telesat_00053.pdf', exp=ex)\n",
    "fig"
   ]
  },
  {
   "cell_type": "markdown",
   "metadata": {},
   "source": [
    "# SpaceX Starlink [SAT-MPL-20200526-00053]"
   ]
  },
  {
   "cell_type": "code",
   "execution_count": 3,
   "metadata": {},
   "outputs": [
    {
     "name": "stdout",
     "output_type": "stream",
     "text": [
      "Initializing object 1 of 1...\n",
      "Initializing 4409 satellites...\n"
     ]
    },
    {
     "data": {
      "application/vnd.jupyter.widget-view+json": {
       "model_id": "ee4f5ea78ef443688bd0b2eb02001a43",
       "version_major": 2,
       "version_minor": 0
      },
      "text/plain": [
       "Image(value=b'\\x89PNG\\r\\n\\x1a\\n\\x00\\x00\\x00\\rIHDR\\x00\\x00\\x07\\x08\\x00\\x00\\x07\\x08\\x08\\x02\\x00\\x00\\x00\\xa7\\xf1\\…"
      ]
     },
     "metadata": {},
     "output_type": "display_data"
    }
   ],
   "source": [
    "from hermes.constellations.SpaceX import SpaceX_00087\n",
    "\n",
    "fig = mlab.figure(size=(1800, 1800), bgcolor=(1.0, 1.0, 1.0))   # Make a new figure (similar to MATLAB)\n",
    "\n",
    "# Start by making a scenario we will add our simulation objects to\n",
    "scenario = Scenario(Earth, start, stop, step, figure=fig)\n",
    "\n",
    "# Add the constellation\n",
    "constellation = SpaceX_00087\n",
    "scenario.add_satellite(constellation)\n",
    "\n",
    "# Initizalize scenario\n",
    "scenario.initialize()\n",
    "\n",
    "# Start animation\n",
    "scenario.draw_scenario()\n",
    "\n",
    "scenario.step_to(point, True)\n",
    "mlab.view(45, 60)\n",
    "mlab.savefig(figures_dir + '/SpaceX_00087.pdf', exp=ex)\n",
    "fig"
   ]
  },
  {
   "cell_type": "markdown",
   "metadata": {},
   "source": [
    "# SpaceX Starlink [SAT-MOD-20200417-00037]"
   ]
  },
  {
   "cell_type": "code",
   "execution_count": 4,
   "metadata": {},
   "outputs": [
    {
     "name": "stdout",
     "output_type": "stream",
     "text": [
      "Initializing object 1 of 1...\n",
      "Initializing 4408 satellites...\n"
     ]
    },
    {
     "data": {
      "application/vnd.jupyter.widget-view+json": {
       "model_id": "4c3af5f0c03448ef8fee63891997828d",
       "version_major": 2,
       "version_minor": 0
      },
      "text/plain": [
       "Image(value=b'\\x89PNG\\r\\n\\x1a\\n\\x00\\x00\\x00\\rIHDR\\x00\\x00\\x07\\x08\\x00\\x00\\x07\\x08\\x08\\x02\\x00\\x00\\x00\\xa7\\xf1\\…"
      ]
     },
     "metadata": {},
     "output_type": "display_data"
    }
   ],
   "source": [
    "from hermes.constellations.SpaceX import SpaceX_00037\n",
    "\n",
    "fig = mlab.figure(size=(1800, 1800), bgcolor=(1.0, 1.0, 1.0))   # Make a new figure (similar to MATLAB)\n",
    "\n",
    "# Start by making a scenario we will add our simulation objects to\n",
    "scenario = Scenario(Earth, start, stop, step, figure=fig)\n",
    "\n",
    "# Add the constellation\n",
    "constellation = SpaceX_00037\n",
    "scenario.add_satellite(constellation)\n",
    "\n",
    "# Initizalize scenario\n",
    "scenario.initialize()\n",
    "\n",
    "# Start animation\n",
    "scenario.draw_scenario()\n",
    "\n",
    "scenario.step_to(point, True)\n",
    "mlab.view(45, 60)\n",
    "mlab.savefig(figures_dir + '/SpaceX_00037.pdf', exp=ex)\n",
    "fig"
   ]
  },
  {
   "cell_type": "markdown",
   "metadata": {},
   "source": [
    "# Kuiper Systems [SAT-LOA-20190704-00057]"
   ]
  },
  {
   "cell_type": "code",
   "execution_count": 5,
   "metadata": {},
   "outputs": [
    {
     "name": "stdout",
     "output_type": "stream",
     "text": [
      "Initializing object 1 of 1...\n",
      "Initializing 3236 satellites...\n"
     ]
    },
    {
     "data": {
      "application/vnd.jupyter.widget-view+json": {
       "model_id": "d9ed3b6429484213bbcca3ae213d05cc",
       "version_major": 2,
       "version_minor": 0
      },
      "text/plain": [
       "Image(value=b'\\x89PNG\\r\\n\\x1a\\n\\x00\\x00\\x00\\rIHDR\\x00\\x00\\x07\\x08\\x00\\x00\\x07\\x08\\x08\\x02\\x00\\x00\\x00\\xa7\\xf1\\…"
      ]
     },
     "metadata": {},
     "output_type": "display_data"
    }
   ],
   "source": [
    "from hermes.constellations.KuiperSystems import Kuiper_00057\n",
    "\n",
    "fig = mlab.figure(size=(1800, 1800), bgcolor=(1.0, 1.0, 1.0))   # Make a new figure (similar to MATLAB)\n",
    "\n",
    "# Start by making a scenario we will add our simulation objects to\n",
    "scenario = Scenario(Earth, start, stop, step, figure=fig)\n",
    "\n",
    "# Add the constellation\n",
    "constellation = Kuiper_00057\n",
    "scenario.add_satellite(constellation)\n",
    "\n",
    "# Initizalize scenario\n",
    "scenario.initialize()\n",
    "\n",
    "# Start animation\n",
    "scenario.draw_scenario()\n",
    "\n",
    "scenario.step_to(point, True)\n",
    "mlab.view(45, 60)\n",
    "mlab.savefig(figures_dir + '/Kuiper_00057.pdf', exp=ex)\n",
    "fig"
   ]
  },
  {
   "cell_type": "markdown",
   "metadata": {},
   "source": [
    "# Oneweb [SAT-LOI-20160428-00041]"
   ]
  },
  {
   "cell_type": "code",
   "execution_count": 6,
   "metadata": {},
   "outputs": [
    {
     "name": "stdout",
     "output_type": "stream",
     "text": [
      "Initializing object 1 of 1...\n",
      "Initializing 720 satellites...\n"
     ]
    },
    {
     "data": {
      "application/vnd.jupyter.widget-view+json": {
       "model_id": "35172c36b6304cf8b0307b5cb22f1b04",
       "version_major": 2,
       "version_minor": 0
      },
      "text/plain": [
       "Image(value=b'\\x89PNG\\r\\n\\x1a\\n\\x00\\x00\\x00\\rIHDR\\x00\\x00\\x07\\x08\\x00\\x00\\x07\\x08\\x08\\x02\\x00\\x00\\x00\\xa7\\xf1\\…"
      ]
     },
     "metadata": {},
     "output_type": "display_data"
    }
   ],
   "source": [
    "from hermes.constellations.OneWeb import OneWeb_00041\n",
    "\n",
    "fig = mlab.figure(size=(1800, 1800), bgcolor=(1.0, 1.0, 1.0))   # Make a new figure (similar to MATLAB)\n",
    "\n",
    "# Start by making a scenario we will add our simulation objects to\n",
    "scenario = Scenario(Earth, start, stop, step, figure=fig)\n",
    "\n",
    "# Add the constellation\n",
    "constellation = OneWeb_00041\n",
    "scenario.add_satellite(constellation)\n",
    "\n",
    "# Initizalize scenario\n",
    "scenario.initialize()\n",
    "\n",
    "# Start animation\n",
    "scenario.draw_scenario()\n",
    "\n",
    "scenario.step_to(point, True)\n",
    "mlab.view(45, 60)\n",
    "mlab.savefig(figures_dir + '/OneWeb_00041.pdf', exp=ex)\n",
    "fig"
   ]
  },
  {
   "cell_type": "markdown",
   "metadata": {},
   "source": [
    "# Astrome Spacenet"
   ]
  },
  {
   "cell_type": "code",
   "execution_count": 7,
   "metadata": {},
   "outputs": [
    {
     "name": "stdout",
     "output_type": "stream",
     "text": [
      "Initializing object 1 of 1...\n",
      "Initializing 198 satellites...\n"
     ]
    },
    {
     "data": {
      "application/vnd.jupyter.widget-view+json": {
       "model_id": "097c63c612704c5a8580208916a99866",
       "version_major": 2,
       "version_minor": 0
      },
      "text/plain": [
       "Image(value=b'\\x89PNG\\r\\n\\x1a\\n\\x00\\x00\\x00\\rIHDR\\x00\\x00\\x07\\x08\\x00\\x00\\x07\\x08\\x08\\x02\\x00\\x00\\x00\\xa7\\xf1\\…"
      ]
     },
     "metadata": {},
     "output_type": "display_data"
    }
   ],
   "source": [
    "from hermes.constellations.Astrome import Astrome\n",
    "\n",
    "fig = mlab.figure(size=(1800, 1800), bgcolor=(1.0, 1.0, 1.0))   # Make a new figure (similar to MATLAB)\n",
    "\n",
    "# Start by making a scenario we will add our simulation objects to\n",
    "scenario = Scenario(Earth, start, stop, step, figure=fig)\n",
    "\n",
    "# Add the constellation\n",
    "constellation = Astrome\n",
    "scenario.add_satellite(constellation)\n",
    "\n",
    "# Initizalize scenario\n",
    "scenario.initialize()\n",
    "\n",
    "# Start animation\n",
    "scenario.draw_scenario()\n",
    "\n",
    "scenario.step_to(point, True)\n",
    "mlab.view(45, 60)\n",
    "mlab.savefig(figures_dir + '/Astrome.pdf', exp=ex)\n",
    "fig"
   ]
  },
  {
   "cell_type": "markdown",
   "metadata": {},
   "source": [
    "# O3b [SAT-AMD-2017110900154]"
   ]
  },
  {
   "cell_type": "code",
   "execution_count": 8,
   "metadata": {},
   "outputs": [
    {
     "name": "stdout",
     "output_type": "stream",
     "text": [
      "Initializing object 1 of 1...\n",
      "Initializing 42 satellites...\n"
     ]
    },
    {
     "data": {
      "application/vnd.jupyter.widget-view+json": {
       "model_id": "f397289bd3da41bea4da111f69d86feb",
       "version_major": 2,
       "version_minor": 0
      },
      "text/plain": [
       "Image(value=b'\\x89PNG\\r\\n\\x1a\\n\\x00\\x00\\x00\\rIHDR\\x00\\x00\\x07\\x08\\x00\\x00\\x07\\x08\\x08\\x02\\x00\\x00\\x00\\xa7\\xf1\\…"
      ]
     },
     "metadata": {},
     "output_type": "display_data"
    }
   ],
   "source": [
    "from hermes.constellations.O3b_00154 import O3b_00154\n",
    "\n",
    "fig = mlab.figure(size=(1800, 1800), bgcolor=(1.0, 1.0, 1.0))   # Make a new figure (similar to MATLAB)\n",
    "\n",
    "# Start by making a scenario we will add our simulation objects to\n",
    "scenario = Scenario(Earth, start, stop, step, figure=fig)\n",
    "\n",
    "# Add the constellation\n",
    "constellation = O3b_00154\n",
    "scenario.add_satellite(constellation)\n",
    "\n",
    "# Initizalize scenario\n",
    "scenario.initialize()\n",
    "\n",
    "# Start animation\n",
    "scenario.draw_scenario()\n",
    "\n",
    "scenario.step_to(point, True)\n",
    "mlab.view(45, 60)\n",
    "mlab.savefig(figures_dir + '/O3b_00154.pdf', exp=ex)\n",
    "fig"
   ]
  },
  {
   "cell_type": "markdown",
   "metadata": {},
   "source": [
    "# Audacy [SAT-LOA-20161115-00117]"
   ]
  },
  {
   "cell_type": "code",
   "execution_count": 9,
   "metadata": {},
   "outputs": [
    {
     "name": "stdout",
     "output_type": "stream",
     "text": [
      "Initializing object 1 of 1...\n",
      "Initializing 3 satellites...\n"
     ]
    },
    {
     "data": {
      "application/vnd.jupyter.widget-view+json": {
       "model_id": "902c024383114fd79912390b39b89562",
       "version_major": 2,
       "version_minor": 0
      },
      "text/plain": [
       "Image(value=b'\\x89PNG\\r\\n\\x1a\\n\\x00\\x00\\x00\\rIHDR\\x00\\x00\\x07\\x08\\x00\\x00\\x07\\x08\\x08\\x02\\x00\\x00\\x00\\xa7\\xf1\\…"
      ]
     },
     "metadata": {},
     "output_type": "display_data"
    }
   ],
   "source": [
    "from hermes.constellations.Audacy import Audacy_00117\n",
    "\n",
    "fig = mlab.figure(size=(1800, 1800), bgcolor=(1.0, 1.0, 1.0))   # Make a new figure (similar to MATLAB)\n",
    "\n",
    "# Start by making a scenario we will add our simulation objects to\n",
    "scenario = Scenario(Earth, start, stop, step, figure=fig)\n",
    "\n",
    "# Add the constellation\n",
    "constellation = Audacy_00117\n",
    "scenario.add_satellite(constellation)\n",
    "\n",
    "# Initizalize scenario\n",
    "scenario.initialize()\n",
    "\n",
    "# Start animation\n",
    "scenario.draw_scenario()\n",
    "\n",
    "scenario.step_to(point, True)\n",
    "mlab.view(45, 60)\n",
    "mlab.savefig(figures_dir + '/Audacy_00117.pdf', exp=ex)\n",
    "fig"
   ]
  },
  {
   "cell_type": "code",
   "execution_count": null,
   "metadata": {},
   "outputs": [],
   "source": []
  },
  {
   "cell_type": "code",
   "execution_count": null,
   "metadata": {},
   "outputs": [],
   "source": []
  }
 ],
 "metadata": {
  "kernelspec": {
   "display_name": "Python 3",
   "language": "python",
   "name": "python3"
  },
  "language_info": {
   "codemirror_mode": {
    "name": "ipython",
    "version": 3
   },
   "file_extension": ".py",
   "mimetype": "text/x-python",
   "name": "python",
   "nbconvert_exporter": "python",
   "pygments_lexer": "ipython3",
   "version": "3.7.8"
  }
 },
 "nbformat": 4,
 "nbformat_minor": 1
}
