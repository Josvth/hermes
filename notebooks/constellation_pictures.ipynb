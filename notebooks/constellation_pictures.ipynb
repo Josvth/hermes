{
 "cells": [
  {
   "cell_type": "code",
   "execution_count": 1,
   "metadata": {},
   "outputs": [
    {
     "ename": "KeyboardInterrupt",
     "evalue": "",
     "output_type": "error",
     "traceback": [
      "\u001B[1;31m---------------------------------------------------------------------------\u001B[0m",
      "\u001B[1;31mModuleNotFoundError\u001B[0m                       Traceback (most recent call last)",
      "\u001B[1;32mC:\\git\\hermes-simulator\\cenv\\lib\\site-packages\\tvtk\\tvtk_classes.zip\\tvtk_classes\\tvtk_helper.pyc\u001B[0m in \u001B[0;36mget_module\u001B[1;34m(fname)\u001B[0m\n",
      "\u001B[1;31mModuleNotFoundError\u001B[0m: No module named 'tvtk.custom.renderer'",
      "\nDuring handling of the above exception, another exception occurred:\n",
      "\u001B[1;31mKeyboardInterrupt\u001B[0m                         Traceback (most recent call last)",
      "\u001B[1;32m<ipython-input-1-e2fb7112c06d>\u001B[0m in \u001B[0;36m<module>\u001B[1;34m\u001B[0m\n\u001B[1;32m----> 1\u001B[1;33m \u001B[1;32mfrom\u001B[0m \u001B[0mhermes\u001B[0m\u001B[1;33m.\u001B[0m\u001B[0msimulation\u001B[0m \u001B[1;32mimport\u001B[0m \u001B[0mScenario\u001B[0m\u001B[1;33m\u001B[0m\u001B[1;33m\u001B[0m\u001B[0m\n\u001B[0m\u001B[0;32m      2\u001B[0m \u001B[1;32mfrom\u001B[0m \u001B[0mhermes\u001B[0m\u001B[1;33m.\u001B[0m\u001B[0mobjects\u001B[0m \u001B[1;32mimport\u001B[0m \u001B[0mEarth\u001B[0m\u001B[1;33m,\u001B[0m \u001B[0mSatellite\u001B[0m\u001B[1;33m\u001B[0m\u001B[1;33m\u001B[0m\u001B[0m\n\u001B[0;32m      3\u001B[0m \u001B[1;33m\u001B[0m\u001B[0m\n\u001B[0;32m      4\u001B[0m \u001B[1;32mfrom\u001B[0m \u001B[0mastropy\u001B[0m \u001B[1;32mimport\u001B[0m \u001B[0mtime\u001B[0m\u001B[1;33m,\u001B[0m \u001B[0munits\u001B[0m \u001B[1;32mas\u001B[0m \u001B[0mu\u001B[0m\u001B[1;33m\u001B[0m\u001B[1;33m\u001B[0m\u001B[0m\n\u001B[0;32m      5\u001B[0m \u001B[1;32mfrom\u001B[0m \u001B[0mmayavi\u001B[0m \u001B[1;32mimport\u001B[0m \u001B[0mmlab\u001B[0m\u001B[1;33m\u001B[0m\u001B[1;33m\u001B[0m\u001B[0m\n",
      "\u001B[1;32mC:\\git\\hermes-simulator\\hermes\\simulation.py\u001B[0m in \u001B[0;36m<module>\u001B[1;34m\u001B[0m\n\u001B[0;32m      5\u001B[0m \u001B[1;33m\u001B[0m\u001B[0m\n\u001B[0;32m      6\u001B[0m \u001B[1;32mimport\u001B[0m \u001B[0mastropy\u001B[0m\u001B[1;33m\u001B[0m\u001B[1;33m\u001B[0m\u001B[0m\n\u001B[1;32m----> 7\u001B[1;33m \u001B[1;32mfrom\u001B[0m \u001B[0mmayavi\u001B[0m \u001B[1;32mimport\u001B[0m \u001B[0mmlab\u001B[0m\u001B[1;33m\u001B[0m\u001B[1;33m\u001B[0m\u001B[0m\n\u001B[0m\u001B[0;32m      8\u001B[0m \u001B[1;33m\u001B[0m\u001B[0m\n\u001B[0;32m      9\u001B[0m \u001B[1;32mfrom\u001B[0m \u001B[0mhermes\u001B[0m\u001B[1;33m.\u001B[0m\u001B[0mobjects\u001B[0m \u001B[1;32mimport\u001B[0m \u001B[0mSatGroup\u001B[0m\u001B[1;33m\u001B[0m\u001B[1;33m\u001B[0m\u001B[0m\n",
      "\u001B[1;32mC:\\git\\hermes-simulator\\cenv\\lib\\site-packages\\mayavi\\mlab.py\u001B[0m in \u001B[0;36m<module>\u001B[1;34m\u001B[0m\n\u001B[0;32m     14\u001B[0m \u001B[1;31m# Mayavi imports\u001B[0m\u001B[1;33m\u001B[0m\u001B[1;33m\u001B[0m\u001B[1;33m\u001B[0m\u001B[0m\n\u001B[0;32m     15\u001B[0m \u001B[1;32mfrom\u001B[0m \u001B[0mmayavi\u001B[0m\u001B[1;33m.\u001B[0m\u001B[0mcore\u001B[0m\u001B[1;33m.\u001B[0m\u001B[0mcommon\u001B[0m \u001B[1;32mimport\u001B[0m \u001B[0mprocess_ui_events\u001B[0m\u001B[1;33m\u001B[0m\u001B[1;33m\u001B[0m\u001B[0m\n\u001B[1;32m---> 16\u001B[1;33m \u001B[1;32mfrom\u001B[0m \u001B[0mmayavi\u001B[0m\u001B[1;33m.\u001B[0m\u001B[0mtools\u001B[0m\u001B[1;33m.\u001B[0m\u001B[0mcamera\u001B[0m \u001B[1;32mimport\u001B[0m \u001B[0mview\u001B[0m\u001B[1;33m,\u001B[0m \u001B[0mroll\u001B[0m\u001B[1;33m,\u001B[0m \u001B[0myaw\u001B[0m\u001B[1;33m,\u001B[0m \u001B[0mpitch\u001B[0m\u001B[1;33m,\u001B[0m \u001B[0mmove\u001B[0m\u001B[1;33m\u001B[0m\u001B[1;33m\u001B[0m\u001B[0m\n\u001B[0m\u001B[0;32m     17\u001B[0m \u001B[1;32mfrom\u001B[0m \u001B[0mmayavi\u001B[0m\u001B[1;33m.\u001B[0m\u001B[0mtools\u001B[0m\u001B[1;33m.\u001B[0m\u001B[0mfigure\u001B[0m \u001B[1;32mimport\u001B[0m \u001B[0mfigure\u001B[0m\u001B[1;33m,\u001B[0m \u001B[0mclf\u001B[0m\u001B[1;33m,\u001B[0m \u001B[0mgcf\u001B[0m\u001B[1;33m,\u001B[0m \u001B[0msavefig\u001B[0m\u001B[1;33m,\u001B[0m\u001B[0;31m \u001B[0m\u001B[0;31m\\\u001B[0m\u001B[1;33m\u001B[0m\u001B[1;33m\u001B[0m\u001B[0m\n\u001B[0;32m     18\u001B[0m     \u001B[0mdraw\u001B[0m\u001B[1;33m,\u001B[0m \u001B[0msync_camera\u001B[0m\u001B[1;33m,\u001B[0m \u001B[0mclose\u001B[0m\u001B[1;33m,\u001B[0m \u001B[0mscreenshot\u001B[0m\u001B[1;33m\u001B[0m\u001B[1;33m\u001B[0m\u001B[0m\n",
      "\u001B[1;32mC:\\git\\hermes-simulator\\cenv\\lib\\site-packages\\mayavi\\tools\\camera.py\u001B[0m in \u001B[0;36m<module>\u001B[1;34m\u001B[0m\n\u001B[0;32m     22\u001B[0m \u001B[1;31m# We can't use gcf, as it creates a circular import in camera management\u001B[0m\u001B[1;33m\u001B[0m\u001B[1;33m\u001B[0m\u001B[1;33m\u001B[0m\u001B[0m\n\u001B[0;32m     23\u001B[0m \u001B[1;31m# routines.\u001B[0m\u001B[1;33m\u001B[0m\u001B[1;33m\u001B[0m\u001B[1;33m\u001B[0m\u001B[0m\n\u001B[1;32m---> 24\u001B[1;33m \u001B[1;32mfrom\u001B[0m \u001B[1;33m.\u001B[0m\u001B[0mengine_manager\u001B[0m \u001B[1;32mimport\u001B[0m \u001B[0mget_engine\u001B[0m\u001B[1;33m\u001B[0m\u001B[1;33m\u001B[0m\u001B[0m\n\u001B[0m\u001B[0;32m     25\u001B[0m \u001B[1;33m\u001B[0m\u001B[0m\n\u001B[0;32m     26\u001B[0m \u001B[1;33m\u001B[0m\u001B[0m\n",
      "\u001B[1;32mC:\\git\\hermes-simulator\\cenv\\lib\\site-packages\\mayavi\\tools\\engine_manager.py\u001B[0m in \u001B[0;36m<module>\u001B[1;34m\u001B[0m\n\u001B[0;32m     12\u001B[0m \u001B[1;32mfrom\u001B[0m \u001B[0mmayavi\u001B[0m\u001B[1;33m.\u001B[0m\u001B[0mpreferences\u001B[0m\u001B[1;33m.\u001B[0m\u001B[0mapi\u001B[0m \u001B[1;32mimport\u001B[0m \u001B[0mpreference_manager\u001B[0m\u001B[1;33m\u001B[0m\u001B[1;33m\u001B[0m\u001B[0m\n\u001B[0;32m     13\u001B[0m \u001B[1;32mfrom\u001B[0m \u001B[0mmayavi\u001B[0m\u001B[1;33m.\u001B[0m\u001B[0mcore\u001B[0m\u001B[1;33m.\u001B[0m\u001B[0mregistry\u001B[0m \u001B[1;32mimport\u001B[0m \u001B[0mregistry\u001B[0m\u001B[1;33m\u001B[0m\u001B[1;33m\u001B[0m\u001B[0m\n\u001B[1;32m---> 14\u001B[1;33m \u001B[1;32mfrom\u001B[0m \u001B[0mmayavi\u001B[0m\u001B[1;33m.\u001B[0m\u001B[0mcore\u001B[0m\u001B[1;33m.\u001B[0m\u001B[0mengine\u001B[0m \u001B[1;32mimport\u001B[0m \u001B[0mEngine\u001B[0m\u001B[1;33m\u001B[0m\u001B[1;33m\u001B[0m\u001B[0m\n\u001B[0m\u001B[0;32m     15\u001B[0m \u001B[1;32mfrom\u001B[0m \u001B[0mmayavi\u001B[0m\u001B[1;33m.\u001B[0m\u001B[0mcore\u001B[0m\u001B[1;33m.\u001B[0m\u001B[0moff_screen_engine\u001B[0m \u001B[1;32mimport\u001B[0m \u001B[0mOffScreenEngine\u001B[0m\u001B[1;33m\u001B[0m\u001B[1;33m\u001B[0m\u001B[0m\n\u001B[0;32m     16\u001B[0m \u001B[1;32mfrom\u001B[0m \u001B[0mmayavi\u001B[0m\u001B[1;33m.\u001B[0m\u001B[0mcore\u001B[0m\u001B[1;33m.\u001B[0m\u001B[0mnull_engine\u001B[0m \u001B[1;32mimport\u001B[0m \u001B[0mNullEngine\u001B[0m\u001B[1;33m\u001B[0m\u001B[1;33m\u001B[0m\u001B[0m\n",
      "\u001B[1;32mC:\\git\\hermes-simulator\\cenv\\lib\\site-packages\\mayavi\\core\\engine.py\u001B[0m in \u001B[0;36m<module>\u001B[1;34m\u001B[0m\n\u001B[0;32m     26\u001B[0m \u001B[1;31m# Local imports.\u001B[0m\u001B[1;33m\u001B[0m\u001B[1;33m\u001B[0m\u001B[1;33m\u001B[0m\u001B[0m\n\u001B[0;32m     27\u001B[0m \u001B[1;32mfrom\u001B[0m \u001B[0mtvtk\u001B[0m\u001B[1;33m.\u001B[0m\u001B[0mcommon\u001B[0m \u001B[1;32mimport\u001B[0m \u001B[0mis_old_pipeline\u001B[0m\u001B[1;33m\u001B[0m\u001B[1;33m\u001B[0m\u001B[0m\n\u001B[1;32m---> 28\u001B[1;33m \u001B[1;32mfrom\u001B[0m \u001B[0mmayavi\u001B[0m\u001B[1;33m.\u001B[0m\u001B[0mcore\u001B[0m\u001B[1;33m.\u001B[0m\u001B[0mbase\u001B[0m \u001B[1;32mimport\u001B[0m \u001B[0mBase\u001B[0m\u001B[1;33m\u001B[0m\u001B[1;33m\u001B[0m\u001B[0m\n\u001B[0m\u001B[0;32m     29\u001B[0m \u001B[1;32mfrom\u001B[0m \u001B[0mmayavi\u001B[0m\u001B[1;33m.\u001B[0m\u001B[0mcore\u001B[0m\u001B[1;33m.\u001B[0m\u001B[0mscene\u001B[0m \u001B[1;32mimport\u001B[0m \u001B[0mScene\u001B[0m\u001B[1;33m\u001B[0m\u001B[1;33m\u001B[0m\u001B[0m\n\u001B[0;32m     30\u001B[0m \u001B[1;32mfrom\u001B[0m \u001B[0mmayavi\u001B[0m\u001B[1;33m.\u001B[0m\u001B[0mcore\u001B[0m\u001B[1;33m.\u001B[0m\u001B[0mcommon\u001B[0m \u001B[1;32mimport\u001B[0m \u001B[0merror\u001B[0m\u001B[1;33m,\u001B[0m \u001B[0mprocess_ui_events\u001B[0m\u001B[1;33m\u001B[0m\u001B[1;33m\u001B[0m\u001B[0m\n",
      "\u001B[1;32mC:\\git\\hermes-simulator\\cenv\\lib\\site-packages\\mayavi\\core\\base.py\u001B[0m in \u001B[0;36m<module>\u001B[1;34m\u001B[0m\n\u001B[0;32m     17\u001B[0m                         HasTraits, WeakRef, on_trait_change)\n\u001B[0;32m     18\u001B[0m \u001B[1;32mfrom\u001B[0m \u001B[0mtraitsui\u001B[0m\u001B[1;33m.\u001B[0m\u001B[0mapi\u001B[0m \u001B[1;32mimport\u001B[0m \u001B[0mTreeNodeObject\u001B[0m\u001B[1;33m\u001B[0m\u001B[1;33m\u001B[0m\u001B[0m\n\u001B[1;32m---> 19\u001B[1;33m \u001B[1;32mfrom\u001B[0m \u001B[0mtvtk\u001B[0m\u001B[1;33m.\u001B[0m\u001B[0mpyface\u001B[0m\u001B[1;33m.\u001B[0m\u001B[0mtvtk_scene\u001B[0m \u001B[1;32mimport\u001B[0m \u001B[0mTVTKScene\u001B[0m\u001B[1;33m\u001B[0m\u001B[1;33m\u001B[0m\u001B[0m\n\u001B[0m\u001B[0;32m     20\u001B[0m \u001B[1;32mfrom\u001B[0m \u001B[0mapptools\u001B[0m\u001B[1;33m.\u001B[0m\u001B[0mpersistence\u001B[0m \u001B[1;32mimport\u001B[0m \u001B[0mstate_pickler\u001B[0m\u001B[1;33m\u001B[0m\u001B[1;33m\u001B[0m\u001B[0m\n\u001B[0;32m     21\u001B[0m \u001B[1;32mfrom\u001B[0m \u001B[0mpyface\u001B[0m\u001B[1;33m.\u001B[0m\u001B[0mresource\u001B[0m\u001B[1;33m.\u001B[0m\u001B[0mapi\u001B[0m \u001B[1;32mimport\u001B[0m \u001B[0mresource_path\u001B[0m\u001B[1;33m\u001B[0m\u001B[1;33m\u001B[0m\u001B[0m\n",
      "\u001B[1;32mC:\\git\\hermes-simulator\\cenv\\lib\\site-packages\\tvtk\\pyface\\tvtk_scene.py\u001B[0m in \u001B[0;36m<module>\u001B[1;34m\u001B[0m\n\u001B[0;32m     42\u001B[0m \u001B[1;31m# `TVTKScene` class.\u001B[0m\u001B[1;33m\u001B[0m\u001B[1;33m\u001B[0m\u001B[1;33m\u001B[0m\u001B[0m\n\u001B[0;32m     43\u001B[0m \u001B[1;31m######################################################################\u001B[0m\u001B[1;33m\u001B[0m\u001B[1;33m\u001B[0m\u001B[1;33m\u001B[0m\u001B[0m\n\u001B[1;32m---> 44\u001B[1;33m \u001B[1;32mclass\u001B[0m \u001B[0mTVTKScene\u001B[0m\u001B[1;33m(\u001B[0m\u001B[0mHasPrivateTraits\u001B[0m\u001B[1;33m)\u001B[0m\u001B[1;33m:\u001B[0m\u001B[1;33m\u001B[0m\u001B[1;33m\u001B[0m\u001B[0m\n\u001B[0m\u001B[0;32m     45\u001B[0m     \"\"\"A TVTK interactor scene widget.\n\u001B[0;32m     46\u001B[0m \u001B[1;33m\u001B[0m\u001B[0m\n",
      "\u001B[1;32mC:\\git\\hermes-simulator\\cenv\\lib\\site-packages\\tvtk\\pyface\\tvtk_scene.py\u001B[0m in \u001B[0;36mTVTKScene\u001B[1;34m()\u001B[0m\n\u001B[0;32m    179\u001B[0m \u001B[1;33m\u001B[0m\u001B[0m\n\u001B[0;32m    180\u001B[0m     \u001B[1;31m# The renderer.\u001B[0m\u001B[1;33m\u001B[0m\u001B[1;33m\u001B[0m\u001B[1;33m\u001B[0m\u001B[0m\n\u001B[1;32m--> 181\u001B[1;33m     \u001B[0mrenderer\u001B[0m \u001B[1;33m=\u001B[0m \u001B[0mProperty\u001B[0m\u001B[1;33m(\u001B[0m\u001B[0mInstance\u001B[0m\u001B[1;33m(\u001B[0m\u001B[0mtvtk\u001B[0m\u001B[1;33m.\u001B[0m\u001B[0mRenderer\u001B[0m\u001B[1;33m)\u001B[0m\u001B[1;33m)\u001B[0m\u001B[1;33m\u001B[0m\u001B[1;33m\u001B[0m\u001B[0m\n\u001B[0m\u001B[0;32m    182\u001B[0m \u001B[1;33m\u001B[0m\u001B[0m\n\u001B[0;32m    183\u001B[0m     \u001B[1;31m# The camera.\u001B[0m\u001B[1;33m\u001B[0m\u001B[1;33m\u001B[0m\u001B[1;33m\u001B[0m\u001B[0m\n",
      "\u001B[1;32mC:\\git\\hermes-simulator\\cenv\\lib\\site-packages\\tvtk\\tvtk_classes.zip\\tvtk_classes\\tvtk_helper.pyc\u001B[0m in \u001B[0;36m<lambda>\u001B[1;34m(self)\u001B[0m\n",
      "\u001B[1;32mC:\\git\\hermes-simulator\\cenv\\lib\\site-packages\\tvtk\\tvtk_classes.zip\\tvtk_classes\\tvtk_helper.pyc\u001B[0m in \u001B[0;36mget_class\u001B[1;34m(name)\u001B[0m\n",
      "\u001B[1;32mC:\\git\\hermes-simulator\\cenv\\lib\\site-packages\\tvtk\\tvtk_classes.zip\\tvtk_classes\\tvtk_helper.pyc\u001B[0m in \u001B[0;36mget_module\u001B[1;34m(fname)\u001B[0m\n",
      "\u001B[1;32mC:\\git\\hermes-simulator\\cenv\\lib\\importlib\\_bootstrap.py\u001B[0m in \u001B[0;36m_find_and_load\u001B[1;34m(name, import_)\u001B[0m\n",
      "\u001B[1;32mC:\\git\\hermes-simulator\\cenv\\lib\\importlib\\_bootstrap.py\u001B[0m in \u001B[0;36m_find_and_load_unlocked\u001B[1;34m(name, import_)\u001B[0m\n",
      "\u001B[1;32mC:\\git\\hermes-simulator\\cenv\\lib\\importlib\\_bootstrap.py\u001B[0m in \u001B[0;36m_load_unlocked\u001B[1;34m(spec)\u001B[0m\n",
      "\u001B[1;32mC:\\git\\hermes-simulator\\cenv\\lib\\importlib\\_bootstrap.py\u001B[0m in \u001B[0;36m_load_backward_compatible\u001B[1;34m(spec)\u001B[0m\n",
      "\u001B[1;32mC:\\git\\hermes-simulator\\cenv\\lib\\site-packages\\tvtk\\tvtk_classes.zip\\tvtk_classes\\renderer.pyc\u001B[0m in \u001B[0;36m<module>\u001B[1;34m\u001B[0m\n",
      "\u001B[1;32mC:\\git\\hermes-simulator\\cenv\\lib\\importlib\\_bootstrap.py\u001B[0m in \u001B[0;36m_find_and_load\u001B[1;34m(name, import_)\u001B[0m\n",
      "\u001B[1;32mC:\\git\\hermes-simulator\\cenv\\lib\\importlib\\_bootstrap.py\u001B[0m in \u001B[0;36m_find_and_load_unlocked\u001B[1;34m(name, import_)\u001B[0m\n",
      "\u001B[1;32mC:\\git\\hermes-simulator\\cenv\\lib\\importlib\\_bootstrap.py\u001B[0m in \u001B[0;36m_load_unlocked\u001B[1;34m(spec)\u001B[0m\n",
      "\u001B[1;32mC:\\git\\hermes-simulator\\cenv\\lib\\importlib\\_bootstrap.py\u001B[0m in \u001B[0;36m_load_backward_compatible\u001B[1;34m(spec)\u001B[0m\n",
      "\u001B[1;32mC:\\git\\hermes-simulator\\cenv\\lib\\importlib\\_bootstrap_external.py\u001B[0m in \u001B[0;36m_fix_up_module\u001B[1;34m(ns, name, pathname, cpathname)\u001B[0m\n",
      "\u001B[1;32mC:\\git\\hermes-simulator\\cenv\\lib\\importlib\\_bootstrap_external.py\u001B[0m in \u001B[0;36mspec_from_file_location\u001B[1;34m(name, location, loader, submodule_search_locations)\u001B[0m\n",
      "\u001B[1;32mC:\\git\\hermes-simulator\\cenv\\lib\\importlib\\_bootstrap.py\u001B[0m in \u001B[0;36m__init__\u001B[1;34m(self, name, loader, origin, loader_state, is_package)\u001B[0m\n",
      "\u001B[1;31mKeyboardInterrupt\u001B[0m: "
     ]
    }
   ],
   "source": [
    "from hermes.simulation import Scenario\n",
    "from hermes.objects import Earth, Satellite\n",
    "\n",
    "from astropy import time, units as u\n",
    "from mayavi import mlab\n",
    "from tvtk.api import tvtk\n",
    "\n",
    "mlab.init_notebook('ipy')\n",
    "\n",
    "# PDF exporter defaults\n",
    "ex = tvtk.GL2PSExporter()\n",
    "ex.file_format = 'pdf'\n",
    "ex.sort = 'bsp'\n",
    "ex.compress = 1\n",
    "#ex.edit_traits(kind='livemodal')\n",
    "\n",
    "figures_dir = 'D:/git/thesis_report_ae/figures'\n",
    "\n",
    "start = time.Time('2019-09-01 10:00:00.000', scale='tt')        # Start time of simulation\n",
    "stop = time.Time('2019-09-01 11:00:00.000', scale='tt')         # Stop time of simulation\n",
    "step = 1 * u.s\n",
    "\n",
    "point = time.Time('2019-09-01 8:00:00.000', scale='tt')\n"
   ]
  },
  {
   "cell_type": "markdown",
   "metadata": {},
   "source": [
    "# Telesat [SAT-MPL-20200526-00053]"
   ]
  },
  {
   "cell_type": "code",
   "execution_count": null,
   "metadata": {
    "pycharm": {
     "name": "#%%\n"
    }
   },
   "outputs": [],
   "source": [
    "from hermes.constellations.Telesat import Telesat_00053\n",
    "\n",
    "\n",
    "fig = mlab.figure(size=(1800, 1800), bgcolor=(1.0, 1.0, 1.0))   # Make a new figure (similar to MATLAB)\n",
    "\n",
    "# Start by making a scenario we will add our simulation objects to\n",
    "scenario = Scenario(Earth, start, stop, step, figure=fig)\n",
    "\n",
    "# Add the constellation\n",
    "constellation = Telesat_00053\n",
    "scenario.add_satellite(constellation)\n",
    "\n",
    "# Initizalize scenario\n",
    "scenario.initialize()\n",
    "\n",
    "# Start animation\n",
    "scenario.draw_scenario()\n",
    "\n",
    "scenario.step_to(point, True)\n",
    "mlab.view(45, 60)\n",
    "mlab.savefig(figures_dir + '/Telesat_00053.pdf', exp=ex)\n",
    "fig"
   ]
  },
  {
   "cell_type": "markdown",
   "metadata": {},
   "source": [
    "# SpaceX Starlink [SAT-MPL-20200526-00053]"
   ]
  },
  {
   "cell_type": "code",
   "execution_count": null,
   "metadata": {},
   "outputs": [],
   "source": [
    "from hermes.constellations.SpaceX import SpaceX_00087\n",
    "\n",
    "fig = mlab.figure(size=(1800, 1800), bgcolor=(1.0, 1.0, 1.0))   # Make a new figure (similar to MATLAB)\n",
    "\n",
    "# Start by making a scenario we will add our simulation objects to\n",
    "scenario = Scenario(Earth, start, stop, step, figure=fig)\n",
    "\n",
    "# Add the constellation\n",
    "constellation = SpaceX_00087\n",
    "scenario.add_satellite(constellation)\n",
    "\n",
    "# Initizalize scenario\n",
    "scenario.initialize()\n",
    "\n",
    "# Start animation\n",
    "scenario.draw_scenario()\n",
    "\n",
    "scenario.step_to(point, True)\n",
    "mlab.view(45, 60)\n",
    "mlab.savefig(figures_dir + '/SpaceX_00087.pdf', exp=ex)\n",
    "fig"
   ]
  },
  {
   "cell_type": "markdown",
   "metadata": {},
   "source": [
    "# SpaceX Starlink [SAT-MOD-20200417-00037]"
   ]
  },
  {
   "cell_type": "code",
   "execution_count": null,
   "metadata": {},
   "outputs": [],
   "source": [
    "from hermes.constellations.SpaceX import SpaceX_00037\n",
    "\n",
    "fig = mlab.figure(size=(1800, 1800), bgcolor=(1.0, 1.0, 1.0))   # Make a new figure (similar to MATLAB)\n",
    "\n",
    "# Start by making a scenario we will add our simulation objects to\n",
    "scenario = Scenario(Earth, start, stop, step, figure=fig)\n",
    "\n",
    "# Add the constellation\n",
    "constellation = SpaceX_00037\n",
    "scenario.add_satellite(constellation)\n",
    "\n",
    "# Initizalize scenario\n",
    "scenario.initialize()\n",
    "\n",
    "# Start animation\n",
    "scenario.draw_scenario()\n",
    "\n",
    "scenario.step_to(point, True)\n",
    "mlab.view(45, 60)\n",
    "mlab.savefig(figures_dir + '/SpaceX_00037.pdf', exp=ex)\n",
    "fig"
   ]
  },
  {
   "cell_type": "markdown",
   "metadata": {},
   "source": [
    "# Kuiper Systems [SAT-LOA-20190704-00057]"
   ]
  },
  {
   "cell_type": "code",
   "execution_count": null,
   "metadata": {},
   "outputs": [],
   "source": [
    "from hermes.constellations.KuiperSystems import Kuiper_00057\n",
    "\n",
    "fig = mlab.figure(size=(1800, 1800), bgcolor=(1.0, 1.0, 1.0))   # Make a new figure (similar to MATLAB)\n",
    "\n",
    "# Start by making a scenario we will add our simulation objects to\n",
    "scenario = Scenario(Earth, start, stop, step, figure=fig)\n",
    "\n",
    "# Add the constellation\n",
    "constellation = Kuiper_00057\n",
    "scenario.add_satellite(constellation)\n",
    "\n",
    "# Initizalize scenario\n",
    "scenario.initialize()\n",
    "\n",
    "# Start animation\n",
    "scenario.draw_scenario()\n",
    "\n",
    "scenario.step_to(point, True)\n",
    "mlab.view(45, 60)\n",
    "mlab.savefig(figures_dir + '/Kuiper_00057.pdf', exp=ex)\n",
    "fig"
   ]
  },
  {
   "cell_type": "markdown",
   "metadata": {},
   "source": [
    "# Oneweb [SAT-LOI-20160428-00041]"
   ]
  },
  {
   "cell_type": "code",
   "execution_count": null,
   "metadata": {},
   "outputs": [],
   "source": [
    "from hermes.constellations.OneWeb import OneWeb_00041\n",
    "\n",
    "fig = mlab.figure(size=(1800, 1800), bgcolor=(1.0, 1.0, 1.0))   # Make a new figure (similar to MATLAB)\n",
    "\n",
    "# Start by making a scenario we will add our simulation objects to\n",
    "scenario = Scenario(Earth, start, stop, step, figure=fig)\n",
    "\n",
    "# Add the constellation\n",
    "constellation = OneWeb_00041\n",
    "scenario.add_satellite(constellation)\n",
    "\n",
    "# Initizalize scenario\n",
    "scenario.initialize()\n",
    "\n",
    "# Start animation\n",
    "scenario.draw_scenario()\n",
    "\n",
    "scenario.step_to(point, True)\n",
    "mlab.view(45, 60)\n",
    "mlab.savefig(figures_dir + '/OneWeb_00041.pdf', exp=ex)\n",
    "fig"
   ]
  },
  {
   "cell_type": "markdown",
   "metadata": {},
   "source": [
    "# Astrome Spacenet"
   ]
  },
  {
   "cell_type": "code",
   "execution_count": null,
   "metadata": {},
   "outputs": [],
   "source": [
    "from hermes.constellations.Astrome import Astrome\n",
    "\n",
    "fig = mlab.figure(size=(1800, 1800), bgcolor=(1.0, 1.0, 1.0))   # Make a new figure (similar to MATLAB)\n",
    "\n",
    "# Start by making a scenario we will add our simulation objects to\n",
    "scenario = Scenario(Earth, start, stop, step, figure=fig)\n",
    "\n",
    "# Add the constellation\n",
    "constellation = Astrome\n",
    "scenario.add_satellite(constellation)\n",
    "\n",
    "# Initizalize scenario\n",
    "scenario.initialize()\n",
    "\n",
    "# Start animation\n",
    "scenario.draw_scenario()\n",
    "\n",
    "scenario.step_to(point, True)\n",
    "mlab.view(45, 60)\n",
    "mlab.savefig(figures_dir + '/Astrome.pdf', exp=ex)\n",
    "fig"
   ]
  },
  {
   "cell_type": "markdown",
   "metadata": {},
   "source": [
    "# O3b [SAT-AMD-2017110900154]"
   ]
  },
  {
   "cell_type": "code",
   "execution_count": null,
   "metadata": {},
   "outputs": [],
   "source": [
    "from hermes.constellations.O3b_00154 import O3b_00154\n",
    "\n",
    "fig = mlab.figure(size=(1800, 1800), bgcolor=(1.0, 1.0, 1.0))   # Make a new figure (similar to MATLAB)\n",
    "\n",
    "# Start by making a scenario we will add our simulation objects to\n",
    "scenario = Scenario(Earth, start, stop, step, figure=fig)\n",
    "\n",
    "# Add the constellation\n",
    "constellation = O3b_00154\n",
    "scenario.add_satellite(constellation)\n",
    "\n",
    "# Initizalize scenario\n",
    "scenario.initialize()\n",
    "\n",
    "# Start animation\n",
    "scenario.draw_scenario()\n",
    "\n",
    "scenario.step_to(point, True)\n",
    "mlab.view(45, 60)\n",
    "mlab.savefig(figures_dir + '/O3b_00154.pdf', exp=ex)\n",
    "fig"
   ]
  },
  {
   "cell_type": "markdown",
   "metadata": {},
   "source": [
    "# Audacy [SAT-LOA-20161115-00117]"
   ]
  },
  {
   "cell_type": "code",
   "execution_count": null,
   "metadata": {},
   "outputs": [],
   "source": [
    "from hermes.constellations.Audacy import Audacy_00117\n",
    "\n",
    "fig = mlab.figure(size=(1800, 1800), bgcolor=(1.0, 1.0, 1.0))   # Make a new figure (similar to MATLAB)\n",
    "\n",
    "# Start by making a scenario we will add our simulation objects to\n",
    "scenario = Scenario(Earth, start, stop, step, figure=fig)\n",
    "\n",
    "# Add the constellation\n",
    "constellation = Audacy_00117\n",
    "scenario.add_satellite(constellation)\n",
    "\n",
    "# Initizalize scenario\n",
    "scenario.initialize()\n",
    "\n",
    "# Start animation\n",
    "scenario.draw_scenario()\n",
    "\n",
    "scenario.step_to(point, True)\n",
    "mlab.view(45, 60)\n",
    "mlab.savefig(figures_dir + '/Audacy_00117.pdf', exp=ex)\n",
    "fig"
   ]
  },
  {
   "cell_type": "code",
   "execution_count": null,
   "metadata": {},
   "outputs": [],
   "source": []
  },
  {
   "cell_type": "code",
   "execution_count": null,
   "metadata": {},
   "outputs": [],
   "source": []
  }
 ],
 "metadata": {
  "kernelspec": {
   "display_name": "Python 3",
   "language": "python",
   "name": "python3"
  },
  "language_info": {
   "codemirror_mode": {
    "name": "ipython",
    "version": 3
   },
   "file_extension": ".py",
   "mimetype": "text/x-python",
   "name": "python",
   "nbconvert_exporter": "python",
   "pygments_lexer": "ipython3",
   "version": "3.7.8"
  }
 },
 "nbformat": 4,
 "nbformat_minor": 1
}