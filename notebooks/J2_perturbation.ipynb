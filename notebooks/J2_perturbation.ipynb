{
 "cells": [
  {
   "cell_type": "code",
   "execution_count": 1,
   "metadata": {},
   "outputs": [
    {
     "name": "stdout",
     "output_type": "stream",
     "text": [
      "Notebook initialized with ipy backend.\n",
      "Initializing attractor\n",
      "Initializing 1 satellites...\n"
     ]
    }
   ],
   "source": [
    "from hermes.analysis import LOSAnalysis\n",
    "from hermes.scenario import Scenario\n",
    "from hermes.objects import Earth, Satellite, SatGroup\n",
    "\n",
    "from astropy import time, units as u\n",
    "from mayavi import mlab\n",
    "from tvtk.api import tvtk\n",
    "from hermes.util import hex2rgb\n",
    "from hermes.visualisation import Visualisation3DGIL\n",
    "\n",
    "from tqdm.notebook import tqdm\n",
    "\n",
    "mlab.init_notebook('ipy', local=True)\n",
    "\n",
    "# PDF exporter defaults\n",
    "ex = tvtk.GL2PSExporter()\n",
    "ex.file_format = 'pdf'\n",
    "ex.sort = 'bsp'\n",
    "ex.compress = 1\n",
    "#ex.edit_traits(kind='livemodal')\n",
    "\n",
    "figures_dir = 'D:/git/thesis_report_ae/figures'\n",
    "\n",
    "start = time.Time('2019-09-01 10:00:00.000', scale='tt')        # Start time of simulation\n",
    "stop = time.Time('2019-09-02 10:00:00.000', scale='tt')         # Stop time of simulation\n",
    "step = 60 * u.s\n",
    "\n",
    "scenario = Scenario(start, stop, step, Earth)\n",
    "\n",
    "# Make a new Satellite object and give it a cyan color\n",
    "#sat1 = Satellite.circular(Earth.poli_body, 567 * u.km, inc=97.7 * u.deg, raan=0 * u.deg, arglat=0 * u.deg)\n",
    "sat1 = Satellite.circular(Earth.poli_body, 500 * u.km, inc=30 * u.deg, raan=0 * u.deg, arglat=0 * u.deg)\n",
    "#sat1 = Satellite.circular(Earth.poli_body, 1681 * u.km, inc=103.0 * u.deg, raan=0 * u.deg, arglat=0 * u.deg)\n",
    "sat1.color = hex2rgb('#00ffff')\n",
    "sat1.J2_perturbation = True\n",
    "sat1.plane_3D_show = False\n",
    "sat1.trace_3D_show = True\n",
    "sat1.trace_3D_length = int(10 * step.value)\n",
    "\n",
    "# And we add it to the scenario\n",
    "scenario.add_satellite(sat1)\n",
    "\n",
    "# Initialize the scenario\n",
    "scenario.initialise()\n",
    "\n",
    "figure = mlab.figure(size=(5000, 5000), bgcolor=(1,1,1))\n",
    "vis = Visualisation3DGIL(figure=figure)"
   ]
  },
  {
   "cell_type": "markdown",
   "metadata": {},
   "source": [
    "# Manual visualisation render"
   ]
  },
  {
   "cell_type": "code",
   "execution_count": 2,
   "metadata": {
    "pycharm": {
     "name": "#%%\n"
    }
   },
   "outputs": [
    {
     "data": {
      "application/vnd.jupyter.widget-view+json": {
       "model_id": "3bca87bf5ecc4b5fa708ad3988b7de1b",
       "version_major": 2,
       "version_minor": 0
      },
      "text/plain": [
       "HBox(children=(HTML(value='Simulation progress'), FloatProgress(value=0.0, max=1440.0), HTML(value='')))"
      ]
     },
     "metadata": {},
     "output_type": "display_data"
    },
    {
     "name": "stdout",
     "output_type": "stream",
     "text": [
      "\n"
     ]
    }
   ],
   "source": [
    "total_s = (scenario.state.stop - scenario.state.start).to(u.s).value\n",
    "step_s = scenario.state.step.value\n",
    "\n",
    "figure.scene.disable_render = True\n",
    "for state in tqdm(scenario.run(), total=int(total_s / step_s), desc='Simulation progress'):\n",
    "    vis.visualise(state)\n",
    "    \n",
    "figure.scene.disable_render = False"
   ]
  },
  {
   "cell_type": "markdown",
   "metadata": {},
   "source": [
    "# Show & save figure"
   ]
  },
  {
   "cell_type": "code",
   "execution_count": 5,
   "metadata": {},
   "outputs": [
    {
     "data": {
      "application/vnd.jupyter.widget-view+json": {
       "model_id": "5b4465fb49d24e7989e0b4bff4b3acbb",
       "version_major": 2,
       "version_minor": 0
      },
      "text/plain": [
       "Image(value=b'\\x89PNG\\r\\n\\x1a\\n\\x00\\x00\\x00\\rIHDR\\x00\\x00\\x13\\x88\\x00\\x00\\x13\\x88\\x08\\x02\\x00\\x00\\x00\\xd2\\xfa\\…"
      ]
     },
     "metadata": {},
     "output_type": "display_data"
    }
   ],
   "source": [
    "mlab.view(azimuth=0, elevation=90, distance=4.1*Earth.poli_body.R_mean.to(u.km).value, focalpoint=(0,0,0))\n",
    "\n",
    "mlab.savefig(figures_dir + '/J2_perturbation.pdf', exp=ex)\n",
    "vis.figure\n"
   ]
  },
  {
   "cell_type": "code",
   "execution_count": null,
   "metadata": {},
   "outputs": [],
   "source": []
  }
 ],
 "metadata": {
  "kernelspec": {
   "display_name": "Python 3",
   "language": "python",
   "name": "python3"
  },
  "language_info": {
   "codemirror_mode": {
    "name": "ipython",
    "version": 3
   },
   "file_extension": ".py",
   "mimetype": "text/x-python",
   "name": "python",
   "nbconvert_exporter": "python",
   "pygments_lexer": "ipython3",
   "version": "3.7.8"
  }
 },
 "nbformat": 4,
 "nbformat_minor": 1
}
