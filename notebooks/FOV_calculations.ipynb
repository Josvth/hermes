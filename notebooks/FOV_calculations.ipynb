{
 "cells": [
  {
   "cell_type": "code",
   "execution_count": 5,
   "outputs": [],
   "source": [
    "from astropy import time, units as u\n",
    "from poliastro.bodies import Earth\n",
    "import numpy as np"
   ],
   "metadata": {
    "collapsed": false,
    "pycharm": {
     "name": "#%%\n"
    }
   }
  },
  {
   "cell_type": "markdown",
   "metadata": {
    "collapsed": true,
    "pycharm": {
     "name": "#%% md\n"
    }
   },
   "source": [
    "# Telesat\n",
    "Mimumum elevation angle of 10 degrees specified in\n",
    "[SAT-MPL-20200526-00053 - Technical Narrative](https://fcc.report/IBFS/SAT-MPL-20200526-00053/2378320) page 15"
   ]
  },
  {
   "cell_type": "code",
   "execution_count": 18,
   "outputs": [
    {
     "name": "stdout",
     "output_type": "stream",
     "text": [
      "FOV polar: 58.15 deg\n",
      "FOV inclined: 52.03 deg\n"
     ]
    }
   ],
   "source": [
    "from hermes.geometry import elevation_to_slant, slant_to_fov\n",
    "\n",
    "min_elevation = 10 * u.deg\n",
    "r_polar = Earth.R_mean + 1015 * u.km\n",
    "r_inc = Earth.R_mean + 1325 * u.km\n",
    "\n",
    "slant_polar = elevation_to_slant(min_elevation, r_polar, Earth.R_mean)\n",
    "fov_polar = slant_to_fov(slant_polar, r_polar, Earth.R_mean)\n",
    "print(\"FOV polar: %0.2f deg\" % fov_polar.to(u.deg).value)\n",
    "\n",
    "slant_inc = elevation_to_slant(min_elevation, r_inc, Earth.R_mean)\n",
    "fov_inc = slant_to_fov(slant_polar, r_inc, Earth.R_mean)\n",
    "print(\"FOV inclined: %0.2f deg\" % fov_inc.to(u.deg).value)\n"
   ],
   "metadata": {
    "collapsed": false,
    "pycharm": {
     "name": "#%%\n"
    }
   }
  }
 ],
 "metadata": {
  "kernelspec": {
   "display_name": "Python 3",
   "language": "python",
   "name": "python3"
  },
  "language_info": {
   "codemirror_mode": {
    "name": "ipython",
    "version": 2
   },
   "file_extension": ".py",
   "mimetype": "text/x-python",
   "name": "python",
   "nbconvert_exporter": "python",
   "pygments_lexer": "ipython2",
   "version": "2.7.6"
  }
 },
 "nbformat": 4,
 "nbformat_minor": 0
}