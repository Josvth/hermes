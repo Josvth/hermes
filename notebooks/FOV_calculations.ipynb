{
 "cells": [
  {
   "cell_type": "code",
   "execution_count": 79,
   "outputs": [],
   "source": [
    "from astropy import time, units as u\n",
    "from poliastro.bodies import Earth\n",
    "import numpy as np\n",
    "\n",
    "fig_size = 3.19"
   ],
   "metadata": {
    "collapsed": false,
    "pycharm": {
     "name": "#%%\n"
    }
   }
  },
  {
   "cell_type": "markdown",
   "metadata": {
    "collapsed": true,
    "pycharm": {
     "name": "#%% md\n"
    }
   },
   "source": [
    "# Telesat\n",
    "Mimumum elevation angle of 10 degrees specified in\n",
    "[SAT-MPL-20200526-00053 - Technical Narrative](https://fcc.report/IBFS/SAT-MPL-20200526-00053/2378320) page 15"
   ]
  },
  {
   "cell_type": "code",
   "execution_count": 80,
   "outputs": [
    {
     "name": "stdout",
     "output_type": "stream",
     "text": [
      "FOV polar: 58.15 deg\n",
      "FOV inclined: 52.03 deg\n"
     ]
    }
   ],
   "source": [
    "from hermes.geometry import elevation_to_slant, slant_to_fov, body_angle_to_slant\n",
    "\n",
    "min_elevation = 10 * u.deg\n",
    "r_polar = Earth.R_mean + 1015 * u.km\n",
    "r_inc = Earth.R_mean + 1325 * u.km\n",
    "\n",
    "slant_polar = elevation_to_slant(min_elevation, r_polar, Earth.R_mean)\n",
    "fov_polar = slant_to_fov(slant_polar, r_polar, Earth.R_mean)\n",
    "print(\"FOV polar: %0.2f deg\" % fov_polar.to(u.deg).value)\n",
    "\n",
    "slant_inc = elevation_to_slant(min_elevation, r_inc, Earth.R_mean)\n",
    "fov_inc = slant_to_fov(slant_polar, r_inc, Earth.R_mean)\n",
    "print(\"FOV inclined: %0.2f deg\" % fov_inc.to(u.deg).value)"
   ],
   "metadata": {
    "collapsed": false,
    "pycharm": {
     "name": "#%%\n"
    }
   }
  },
  {
   "cell_type": "code",
   "execution_count": 81,
   "outputs": [
    {
     "name": "stdout",
     "output_type": "stream",
     "text": [
      "1.187017631173575\n",
      "1.4960400690580022\n"
     ]
    }
   ],
   "source": [
    "lat_polar = 180*u.deg - (90*u.deg + min_elevation) - fov_polar.to(u.deg)\n",
    "lat_inc = 180*u.deg - (90*u.deg + min_elevation) - fov_inc.to(u.deg)\n",
    "\n",
    "d_polar = np.sin(lat_polar) * Earth.R_mean\n",
    "d_inc = np.sin(lat_inc) * Earth.R_mean\n",
    "\n",
    "#print(d_polar)\n",
    "#print(d_inc)\n",
    "\n",
    "d_polar_frac = d_polar/Earth.R_mean\n",
    "d_inc_frac = d_inc/Earth.R_mean\n",
    "\n",
    "fig_size = 3.19\n",
    "polar_fig_size = d_polar_frac*fig_size\n",
    "inc_fig_size = d_inc_frac*fig_size\n",
    "\n",
    "print(polar_fig_size)\n",
    "print(inc_fig_size)"
   ],
   "metadata": {
    "collapsed": false,
    "pycharm": {
     "name": "#%% Computation for FoV figure\n"
    }
   }
  },
  {
   "cell_type": "markdown",
   "source": [
    "# OneWeb\n",
    "[SAT-LOI-20160428-00041 - Technical Narrative](https://fcc.report/IBFS/SAT-LOI-20160428-00041/1134939) specifies on page 12 the OneWeb satellites have 16 fixed beams that span roughly +-25 deg in Earth angles in both directions.\n",
    "As an approximation this roughly square FOV is converted to a round FOV by taking the circumscribed cirle of the square.\n",
    "\n",
    "Then this round FOV Earth angle is converted to a satellite angle."
   ],
   "metadata": {
    "collapsed": false
   }
  },
  {
   "cell_type": "code",
   "execution_count": 82,
   "outputs": [
    {
     "name": "stdout",
     "output_type": "stream",
     "text": [
      "35.35533905932738 deg\n",
      "57.20962155879352 deg\n"
     ]
    }
   ],
   "source": [
    "fov_square = 25 * u.deg\n",
    "fov_round = np.sqrt(fov_square**2 + fov_square**2)\n",
    "print(fov_round)\n",
    "\n",
    "r = Earth.R_mean + 1200 * u.km\n",
    "slant = body_angle_to_slant(fov_round, r, Earth.R_mean)\n",
    "fov = slant_to_fov(slant, r, Earth.R_mean)\n",
    "\n",
    "print(fov.to(u.deg))"
   ],
   "metadata": {
    "collapsed": false,
    "pycharm": {
     "name": "#%%\n"
    }
   }
  },
  {
   "cell_type": "code",
   "execution_count": 83,
   "outputs": [
    {
     "name": "stdout",
     "output_type": "stream",
     "text": [
      "FOV 1200000.0 m: 28.860 deg, 1.12 cm\n"
     ]
    }
   ],
   "source": [
    "min_elevation = 55 * u.deg\n",
    "r = Earth.R_mean + 1200 * u.km\n",
    "slant = elevation_to_slant(min_elevation, r, Earth.R_mean)\n",
    "fov = slant_to_fov(slant, r, Earth.R_mean)\n",
    "lat = 180*u.deg - (90*u.deg + min_elevation) - fov.to(u.deg)/2\n",
    "frac = np.sin(lat.to(u.rad))\n",
    "print(\"FOV %s: %0.3f deg, %0.2f cm\" % (r - Earth.R_mean, fov.to(u.deg).value, frac*fig_size))"
   ],
   "metadata": {
    "collapsed": false,
    "pycharm": {
     "name": "#%%\n"
    }
   }
  },
  {
   "cell_type": "markdown",
   "source": [
    "# SpaceX 00087\n",
    "Mimumum elevation angle of 40 for final constellation of 4409 satellites specified in\n",
    "[ SAT-MOD-20190830-00087 - Technical Attachment](https://fcc.report/IBFS/SAT-MOD-20190830-00087/1877671) page 42"
   ],
   "metadata": {
    "collapsed": false
   }
  },
  {
   "cell_type": "code",
   "execution_count": 84,
   "outputs": [
    {
     "name": "stdout",
     "output_type": "stream",
     "text": [
      "FOV 550000.0 m: 44.843 deg, 1.48 cm\n",
      "FOV 1110000.0 m: 40.721 deg, 1.58 cm\n",
      "FOV 1130000.0 m: 40.590 deg, 1.58 cm\n",
      "FOV 1325000.0 m: 39.357 deg, 1.61 cm\n",
      "FOV 1275000.0 m: 39.665 deg, 1.60 cm\n"
     ]
    }
   ],
   "source": [
    "from hermes.geometry import elevation_to_slant, slant_to_fov, body_angle_to_slant\n",
    "\n",
    "min_elevation = 40.0 * u.deg\n",
    "r550 = Earth.R_mean + 550 * u.km\n",
    "r1110 = Earth.R_mean + 1110 * u.km\n",
    "r1130 = Earth.R_mean + 1130 * u.km\n",
    "r1325 = Earth.R_mean + 1325 * u.km\n",
    "r1275 = Earth.R_mean + 1275 * u.km\n",
    "\n",
    "rr = [r550, r1110, r1130, r1325, r1275]\n",
    "\n",
    "for r in rr:\n",
    "    slant = elevation_to_slant(min_elevation, r, Earth.R_mean)\n",
    "    fov = slant_to_fov(slant, r, Earth.R_mean)\n",
    "    lat = 180*u.deg - (90*u.deg + min_elevation) - fov.to(u.deg)/2\n",
    "    frac = np.sin(lat.to(u.rad))\n",
    "    print(\"FOV %s: %0.3f deg, %0.2f cm\" % (r - Earth.R_mean, fov.to(u.deg).value, frac*fig_size))"
   ],
   "metadata": {
    "collapsed": false,
    "pycharm": {
     "name": "#%%\n"
    }
   }
  },
  {
   "cell_type": "markdown",
   "source": [
    "# SpaceX 00037\n",
    "Mimumum elevation angle of 25 specified in\n",
    "[SAT-MOD-20200417-00037 - Technical Attachment](https://fcc.report/IBFS/SAT-MOD-20200417-00037/2274316) page 4"
   ],
   "metadata": {
    "collapsed": false
   }
  },
  {
   "cell_type": "code",
   "execution_count": 85,
   "outputs": [
    {
     "name": "stdout",
     "output_type": "stream",
     "text": [
      "FOV 550000.0 m: 56.541 deg, 1.91 cm\n",
      "FOV 540000.0 m: 56.667 deg, 1.90 cm\n",
      "FOV 570000.0 m: 56.292 deg, 1.91 cm\n",
      "FOV 560000.0 m: 56.417 deg, 1.91 cm\n",
      "FOV 560000.0 m: 56.417 deg, 1.91 cm\n"
     ]
    }
   ],
   "source": [
    "from hermes.geometry import elevation_to_slant, slant_to_fov, body_angle_to_slant\n",
    "\n",
    "min_elevation = 25.0 * u.deg\n",
    "r550 = Earth.R_mean + 550 * u.km\n",
    "r540 = Earth.R_mean + 540 * u.km\n",
    "r570 = Earth.R_mean + 570 * u.km\n",
    "r560 = Earth.R_mean + 560 * u.km\n",
    "r560 = Earth.R_mean + 560 * u.km\n",
    "\n",
    "rr = [r550, r540, r570, r560, r560]\n",
    "\n",
    "for r in rr:\n",
    "    slant = elevation_to_slant(min_elevation, r, Earth.R_mean)\n",
    "    fov = slant_to_fov(slant, r, Earth.R_mean)\n",
    "    lat = 180*u.deg - (90*u.deg + min_elevation) - fov.to(u.deg)/2\n",
    "    frac = np.sin(lat.to(u.rad))\n",
    "    print(\"FOV %s: %0.3f deg, %0.2f cm\" % (r - Earth.R_mean, fov.to(u.deg).value, frac*fig_size))"
   ],
   "metadata": {
    "collapsed": false,
    "pycharm": {
     "name": "#%%\n"
    }
   }
  },
  {
   "cell_type": "code",
   "execution_count": 86,
   "outputs": [
    {
     "name": "stdout",
     "output_type": "stream",
     "text": [
      "0.482936299003992\n"
     ]
    }
   ],
   "source": [
    "slant = elevation_to_slant(min_elevation, r570, Earth.R_mean)\n",
    "fov = slant_to_fov(slant, r570, Earth.R_mean)\n",
    "lat = 180*u.deg - (90*u.deg + min_elevation) - fov.to(u.deg)\n",
    "\n",
    "fig_size = 3.19\n",
    "frac = np.sin(lat)\n",
    "\n",
    "print(frac * fig_size)"
   ],
   "metadata": {
    "collapsed": false,
    "pycharm": {
     "name": "#%%\n"
    }
   }
  },
  {
   "cell_type": "markdown",
   "source": [
    "# Kuiper 00057\n",
    "Mimumum elevation angle of 35 specified in\n",
    "[SAT-LOA-20190704-00057 - Technical Appendix](https://fcc.report/IBFS/SAT-LOA-20190704-00057/1773885)"
   ],
   "metadata": {
    "collapsed": false
   }
  },
  {
   "cell_type": "code",
   "execution_count": 87,
   "outputs": [
    {
     "name": "stdout",
     "output_type": "stream",
     "text": [
      "FOV 590000.0 m: 48.566 deg, 1.63 cm\n",
      "FOV 610000.0 m: 48.381 deg, 1.63 cm\n",
      "FOV 630000.0 m: 48.197 deg, 1.64 cm\n"
     ]
    }
   ],
   "source": [
    "from hermes.geometry import elevation_to_slant, slant_to_fov, body_angle_to_slant\n",
    "\n",
    "min_elevation = 35.0 * u.deg\n",
    "r590 = Earth.R_mean + 590 * u.km\n",
    "r610 = Earth.R_mean + 610 * u.km\n",
    "r630 = Earth.R_mean + 630 * u.km\n",
    "\n",
    "rr = [r590, r610, r630]\n",
    "\n",
    "for r in rr:\n",
    "    slant = elevation_to_slant(min_elevation, r, Earth.R_mean)\n",
    "    fov = slant_to_fov(slant, r, Earth.R_mean)\n",
    "    lat = 180*u.deg - (90*u.deg + min_elevation) - fov.to(u.deg)/2\n",
    "    frac = np.sin(lat.to(u.rad))\n",
    "    print(\"FOV %s: %0.3f deg, %0.2f cm\" % (r - Earth.R_mean, fov.to(u.deg).value, frac*fig_size))\n"
   ],
   "metadata": {
    "collapsed": false,
    "pycharm": {
     "name": "#%%\n"
    }
   }
  },
  {
   "cell_type": "markdown",
   "source": [
    "# Astrome\n",
    "Mimumum elevation angle of 45 specified in\n",
    "[Astrome: SpaceNet Constellation Design Yellow Paper](https://astrome.io/wp-content/uploads/2019/07/Astrome-YellowPaper.pdf) page 12. Also specifies half-cone angle of +-35 degrees. Matches calculation."
   ],
   "metadata": {
    "collapsed": false
   }
  },
  {
   "cell_type": "code",
   "execution_count": 88,
   "outputs": [
    {
     "ename": "SyntaxError",
     "evalue": "invalid syntax (<ipython-input-88-0accc14e5b9c>, line 12)",
     "output_type": "error",
     "traceback": [
      "\u001B[1;36m  File \u001B[1;32m\"<ipython-input-88-0accc14e5b9c>\"\u001B[1;36m, line \u001B[1;32m12\u001B[0m\n\u001B[1;33m    fov_actual =\u001B[0m\n\u001B[1;37m                ^\u001B[0m\n\u001B[1;31mSyntaxError\u001B[0m\u001B[1;31m:\u001B[0m invalid syntax\n"
     ]
    }
   ],
   "source": [
    "from hermes.geometry import elevation_to_slant, slant_to_fov, body_angle_to_slant\n",
    "\n",
    "min_elevation = 45.0 * u.deg\n",
    "r = Earth.R_mean + 1530 * u.km\n",
    "\n",
    "slant = elevation_to_slant(min_elevation, r, Earth.R_mean)\n",
    "fov = slant_to_fov(slant, r, Earth.R_mean)\n",
    "lat = 180*u.deg - (90*u.deg + min_elevation) - fov.to(u.deg)/2\n",
    "frac = np.sin(lat.to(u.rad))\n",
    "print(\"FOV %s: %0.3f deg, %0.2f cm\" % (r - Earth.R_mean, fov.to(u.deg).value, frac*fig_size))\n",
    "\n",
    "fov_actual ="
   ],
   "metadata": {
    "collapsed": false,
    "pycharm": {
     "name": "#%%\n"
    }
   }
  },
  {
   "cell_type": "markdown",
   "source": [
    "# O3b 00154\n",
    "Mimumum elevation angle of 5 degrees specified in\n",
    "[SAT-AMD-20171109-00154 - Attachment Sched S Tech Report](https://fcc.report/IBFS/SAT-AMD-20171109-00154/1303121)"
   ],
   "metadata": {
    "collapsed": false
   }
  },
  {
   "cell_type": "code",
   "execution_count": null,
   "outputs": [],
   "source": [
    "from hermes.geometry import elevation_to_slant, slant_to_fov, body_angle_to_slant\n",
    "\n",
    "min_elevation = 5.0 * u.deg\n",
    "r = Earth.R_mean + 8062 * u.km\n",
    "\n",
    "slant = elevation_to_slant(min_elevation, r, Earth.R_mean)\n",
    "fov = slant_to_fov(slant, r, Earth.R_mean)\n",
    "lat = 180*u.deg - (90*u.deg + min_elevation) - fov.to(u.deg)/2\n",
    "frac = np.sin(lat.to(u.rad))\n",
    "print(\"FOV %s: %0.3f deg, %0.2f cm\" % (r - Earth.R_mean, fov.to(u.deg).value, frac*fig_size))"
   ],
   "metadata": {
    "collapsed": false,
    "pycharm": {
     "name": "#%%\n"
    }
   }
  }
 ],
 "metadata": {
  "kernelspec": {
   "name": "pycharm-34b782de",
   "language": "python",
   "display_name": "PyCharm (hermes-simulator)"
  },
  "language_info": {
   "codemirror_mode": {
    "name": "ipython",
    "version": 2
   },
   "file_extension": ".py",
   "mimetype": "text/x-python",
   "name": "python",
   "nbconvert_exporter": "python",
   "pygments_lexer": "ipython2",
   "version": "2.7.6"
  }
 },
 "nbformat": 4,
 "nbformat_minor": 0
}