{
 "cells": [
  {
   "cell_type": "code",
   "execution_count": 1,
   "outputs": [],
   "source": [
    "from astropy import time, units as u\n",
    "from poliastro.bodies import Earth\n",
    "import numpy as np"
   ],
   "metadata": {
    "collapsed": false,
    "pycharm": {
     "name": "#%%\n"
    }
   }
  },
  {
   "cell_type": "markdown",
   "metadata": {
    "collapsed": true,
    "pycharm": {
     "name": "#%% md\n"
    }
   },
   "source": [
    "# Telesat\n",
    "Mimumum elevation angle of 10 degrees specified in\n",
    "[SAT-MPL-20200526-00053 - Technical Narrative](https://fcc.report/IBFS/SAT-MPL-20200526-00053/2378320) page 15"
   ]
  },
  {
   "cell_type": "code",
   "execution_count": 2,
   "outputs": [
    {
     "name": "stdout",
     "output_type": "stream",
     "text": [
      "FOV polar: 58.15 deg\n",
      "FOV inclined: 52.03 deg\n"
     ]
    }
   ],
   "source": [
    "from hermes.geometry import elevation_to_slant, slant_to_fov, body_angle_to_slant\n",
    "\n",
    "min_elevation = 10 * u.deg\n",
    "r_polar = Earth.R_mean + 1015 * u.km\n",
    "r_inc = Earth.R_mean + 1325 * u.km\n",
    "\n",
    "slant_polar = elevation_to_slant(min_elevation, r_polar, Earth.R_mean)\n",
    "fov_polar = slant_to_fov(slant_polar, r_polar, Earth.R_mean)\n",
    "print(\"FOV polar: %0.2f deg\" % fov_polar.to(u.deg).value)\n",
    "\n",
    "slant_inc = elevation_to_slant(min_elevation, r_inc, Earth.R_mean)\n",
    "fov_inc = slant_to_fov(slant_polar, r_inc, Earth.R_mean)\n",
    "print(\"FOV inclined: %0.2f deg\" % fov_inc.to(u.deg).value)"
   ],
   "metadata": {
    "collapsed": false,
    "pycharm": {
     "name": "#%%\n"
    }
   }
  },
  {
   "cell_type": "markdown",
   "source": [
    "# OneWeb\n",
    "[SAT-LOI-20160428-00041 - Technical Narrative](https://fcc.report/IBFS/SAT-LOI-20160428-00041/1134939) specifies on page 12 the OneWeb satellites have 16 fixed beams that span roughly +-25 deg in Earth angles in both directions.\n",
    "As an approximation this roughly square FOV is converted to a round FOV by taking the circumscribed cirle of the square.\n",
    "\n",
    "Then this round FOV Earth angle is converted to a satellite angle."
   ],
   "metadata": {
    "collapsed": false
   }
  },
  {
   "cell_type": "code",
   "execution_count": 12,
   "outputs": [
    {
     "name": "stdout",
     "output_type": "stream",
     "text": [
      "35.35533905932738 deg\n",
      "57.20962155879352 deg\n"
     ]
    }
   ],
   "source": [
    "fov_square = 25 * u.deg\n",
    "fov_round = np.sqrt(fov_square**2 + fov_square**2)\n",
    "print(fov_round)\n",
    "\n",
    "r = Earth.R_mean + 1200 * u.km\n",
    "slant = body_angle_to_slant(fov_round, r, Earth.R_mean)\n",
    "fov = slant_to_fov(slant, r, Earth.R_mean)\n",
    "\n",
    "print(fov.to(u.deg))"
   ],
   "metadata": {
    "collapsed": false,
    "pycharm": {
     "name": "#%%\n"
    }
   }
  },
  {
   "cell_type": "code",
   "execution_count": 17,
   "outputs": [
    {
     "name": "stdout",
     "output_type": "stream",
     "text": [
      "FOV: 28.86 deg\n"
     ]
    }
   ],
   "source": [
    "min_elevation = 55 * u.deg\n",
    "r = Earth.R_mean + 1200 * u.km\n",
    "slant = elevation_to_slant(min_elevation, r, Earth.R_mean)\n",
    "fov = slant_to_fov(slant, r, Earth.R_mean)\n",
    "print(\"FOV: %0.2f deg\" % fov.to(u.deg).value)\n",
    "\n"
   ],
   "metadata": {
    "collapsed": false,
    "pycharm": {
     "name": "#%%\n"
    }
   }
  }
 ],
 "metadata": {
  "kernelspec": {
   "display_name": "Python 3",
   "language": "python",
   "name": "python3"
  },
  "language_info": {
   "codemirror_mode": {
    "name": "ipython",
    "version": 2
   },
   "file_extension": ".py",
   "mimetype": "text/x-python",
   "name": "python",
   "nbconvert_exporter": "python",
   "pygments_lexer": "ipython2",
   "version": "2.7.6"
  }
 },
 "nbformat": 4,
 "nbformat_minor": 0
}