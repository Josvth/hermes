{
 "cells": [
  {
   "cell_type": "code",
   "execution_count": 6,
   "metadata": {},
   "outputs": [],
   "source": [
    "%matplotlib inline\n",
    "\n",
    "from hermes.objects import Earth, Satellite\n",
    "from hermes.propagation import secular_rates_J2\n",
    "from astropy import time, units as u\n",
    "import matplotlib.pyplot as plt\n",
    "\n",
    "figures_dir = 'D:/git/thesis_report_ae/figures'\n",
    "\n",
    "import numpy as np\n",
    "from notebooks.PlotUtil import apply_report_formatting\n",
    "\n",
    "rp = 6678 * u.km\n",
    "ra = 9440 * u.km\n",
    "raan = 45 * u.deg\n",
    "inc = 28 * u.deg\n",
    "argp = 30 * u.deg\n",
    "nu = 40 * u.deg\n",
    "\n",
    "a = (rp + ra) / 2\n",
    "e = (ra - rp) / (ra + rp)\n",
    "\n",
    "sat1 = Satellite.from_classical(Earth.poli_body,\n",
    "                                a,\n",
    "                                e,\n",
    "                                inc,\n",
    "                                raan,\n",
    "                                argp,\n",
    "                                nu)\n",
    "\n",
    "tof = np.arange(0, 48) * u.h\n",
    "tof_s = tof.to(u.s).value\n",
    "\n",
    "draan, dargp, dnu = secular_rates_J2(sat1.attractor.k.to(u.m ** 3 / u.s ** 2).value,\n",
    "                                        sat1.p.to(u.m).value,\n",
    "                                        sat1.ecc.value,\n",
    "                                        sat1.inc.to(u.rad).value,\n",
    "                                        sat1.raan.to(u.rad).value,\n",
    "                                        sat1.argp.to(u.rad).value,\n",
    "                                        sat1.nu.to(u.rad).value,\n",
    "                                        sat1.attractor.J2.value,\n",
    "                                        sat1.attractor.R_mean.to(u.m).value)"
   ]
  },
  {
   "cell_type": "code",
   "execution_count": 7,
   "metadata": {
    "pycharm": {
     "name": "#%%\n"
    }
   },
   "outputs": [
    {
     "data": {
      "text/plain": "<Figure size 230.4x172.8 with 1 Axes>",
      "image/png": "[encoded data removed]"
     },
     "metadata": {
      "needs_background": "light"
     },
     "output_type": "display_data"
    }
   ],
   "source": [
    "fig, ax = plt.subplots(tight_layout=True, figsize=(3.2, 2.4))\n",
    "\n",
    "ax.plot(tof, tof_s * draan * 180. / np.pi)\n",
    "ax.set_xlim((0, np.max(tof.value)))\n",
    "ax.set_xlabel('Time-of-flight [h]')\n",
    "ax.set_ylabel('$\\Omega$ [deg]')\n",
    "ax.grid(linestyle=':', linewidth = 0.1)\n",
    "apply_report_formatting()\n",
    "\n",
    "plt.savefig(figures_dir + '/J2_raan.pdf')\n",
    "plt.show()\n"
   ]
  },
  {
   "cell_type": "code",
   "execution_count": 8,
   "outputs": [
    {
     "data": {
      "text/plain": "<Figure size 230.4x172.8 with 1 Axes>",
      "image/png": "[encoded data removed]"
     },
     "metadata": {
      "needs_background": "light"
     },
     "output_type": "display_data"
    }
   ],
   "source": [
    "fig, ax = plt.subplots(tight_layout=True, figsize=(3.2, 2.4))\n",
    "\n",
    "ax.plot(tof, tof_s * dargp * 180. / np.pi)\n",
    "ax.set_xlim((0, np.max(tof.value)))\n",
    "ax.set_xlabel('Time-of-flight [h]')\n",
    "ax.set_ylabel('$\\omega$ [deg]')\n",
    "ax.grid(linestyle=':', linewidth = 0.1)\n",
    "apply_report_formatting()\n",
    "\n",
    "plt.savefig(figures_dir + '/J2_argp.pdf')\n",
    "plt.show()\n"
   ],
   "metadata": {
    "collapsed": false,
    "pycharm": {
     "name": "#%%\n"
    }
   }
  },
  {
   "cell_type": "code",
   "execution_count": 9,
   "outputs": [
    {
     "data": {
      "text/plain": "<Figure size 230.4x172.8 with 1 Axes>",
      "image/png": "[encoded data removed]"
     },
     "metadata": {
      "needs_background": "light"
     },
     "output_type": "display_data"
    }
   ],
   "source": [
    "fig, ax = plt.subplots(tight_layout=True, figsize=(3.2, 2.4))\n",
    "\n",
    "ax.plot(tof, tof_s * dnu * 180. / np.pi)\n",
    "ax.set_xlim((0, np.max(tof.value)))\n",
    "ax.set_xlabel('Time-of-flight [h]')\n",
    "ax.set_ylabel('$\\\\theta$ [deg]')\n",
    "ax.grid(linestyle=':', linewidth = 0.1)\n",
    "apply_report_formatting()\n",
    "\n",
    "plt.savefig(figures_dir + '/J2_true_anomaly.pdf')\n",
    "plt.show()"
   ],
   "metadata": {
    "collapsed": false,
    "pycharm": {
     "name": "#%%\n"
    }
   }
  }
 ],
 "metadata": {
  "kernelspec": {
   "display_name": "Python 3",
   "language": "python",
   "name": "python3"
  },
  "language_info": {
   "codemirror_mode": {
    "name": "ipython",
    "version": 3
   },
   "file_extension": ".py",
   "mimetype": "text/x-python",
   "name": "python",
   "nbconvert_exporter": "python",
   "pygments_lexer": "ipython3",
   "version": "3.7.8"
  }
 },
 "nbformat": 4,
 "nbformat_minor": 1
}