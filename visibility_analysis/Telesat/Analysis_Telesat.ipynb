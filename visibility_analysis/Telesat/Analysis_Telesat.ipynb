{
 "cells": [
  {
   "cell_type": "code",
   "execution_count": 35,
   "outputs": [],
   "source": [
    "%matplotlib inline\n",
    "\n",
    "from scipy.interpolate import interp2d\n",
    "\n",
    "from astropy.coordinates import GCRS, CartesianRepresentation, ITRS, SphericalRepresentation\n",
    "from scipy import stats\n",
    "\n",
    "import numpy as np\n",
    "import pandas as pd\n",
    "\n",
    "import matplotlib.pyplot as plt\n",
    "import matplotlib\n",
    "from poliastro.bodies import Earth\n",
    "from astropy import units as u, time\n",
    "from notebooks.PlotUtil import apply_report_formatting\n",
    "\n",
    "import cartopy.crs as ccrs\n"
   ],
   "metadata": {
    "collapsed": false,
    "pycharm": {
     "name": "#%%\n"
    }
   }
  },
  {
   "cell_type": "code",
   "execution_count": 36,
   "metadata": {
    "collapsed": true
   },
   "outputs": [],
   "source": [
    "figures_dir = 'D:/git/thesis_report_ae/figures/visibility_analysis'\n",
    "\n",
    "def generate_pass_df(instance_df):\n",
    "    starts = instance_df.groupby(['p', 'strand_name'], as_index = False).first(1)\n",
    "    starts.index.name = 'p'\n",
    "    starts.rename(columns= {'tof': 'start_tof'}, inplace=True)\n",
    "    ends = instance_df.groupby(['p', 'strand_name'], as_index = False).last(1)\n",
    "    ends.index.name = 'p'\n",
    "    ends.rename(columns= {'tof': 'end_tof'}, inplace=True)\n",
    "\n",
    "    pass_df = pd.concat([starts, ends.end_tof], axis=1)\n",
    "    pass_df['duration'] = pass_df['end_tof'] - pass_df['start_tof']\n",
    "\n",
    "    pass_df['r_b_norm'] = np.sqrt(pass_df['r_b_x']**2 + pass_df['r_b_y']**2 + pass_df['r_b_z']**2)\n",
    "\n",
    "    epoch = time.Time('J2017', scale='tt')\n",
    "    obs_times = epoch + pass_df['start_tof'].values * u.s\n",
    "\n",
    "    gcrs_xyz = GCRS(x=pass_df['r_a_x'], y=pass_df['r_a_y'], z=pass_df['r_a_z'],\n",
    "                    obstime=obs_times, representation_type=CartesianRepresentation)\n",
    "    itrs_xyz = gcrs_xyz.transform_to(ITRS(obstime=obs_times))\n",
    "    itrs_latlon = itrs_xyz.represent_as(SphericalRepresentation)\n",
    "\n",
    "    pass_df['r_a_lat'] = itrs_latlon.lat.to(u.deg)\n",
    "    pass_df['r_a_lon'] = itrs_latlon.lon.to(u.deg)\n",
    "\n",
    "    return pass_df\n",
    "\n",
    "def generate_gap_df(instances_df, step_duration = 1.0, end_tof = None):\n",
    "\n",
    "    unique_tofs = instances_df['tof'].unique()\n",
    "    gap_indexes = np.squeeze(np.argwhere(np.diff(unique_tofs) > 1.5 * step_duration))\n",
    "\n",
    "    start_tof = unique_tofs[gap_indexes]\n",
    "    end_tof = unique_tofs[gap_indexes + 1]\n",
    "    duration = end_tof - start_tof\n",
    "    gaps_dict = {'start_tof': start_tof,\n",
    "                'end_tof': end_tof,\n",
    "                'duration': duration}\n",
    "\n",
    "    gaps_df = pd.DataFrame(gaps_dict, index=list(range(len(start_tof))) if isinstance(start_tof, np.ndarray) else [0])\n",
    "    gaps_df.index.name = 'g'\n",
    "    return gaps_df"
   ]
  },
  {
   "cell_type": "markdown",
   "source": [
    "# Telesat"
   ],
   "metadata": {
    "collapsed": false
   }
  },
  {
   "cell_type": "code",
   "execution_count": 37,
   "outputs": [],
   "source": [
    "columns = ['strand_name', 'tof', 'r_a_x', 'r_a_y', 'r_a_z', 'r_b_x', 'r_b_y', 'r_b_z']\n",
    "\n",
    "#store_500km = pd.HDFStore(\"Test_LOSAnalysis_sat_500km_90deg_to_Telesat_2020-12-31_08-50-39.h5\")\n",
    "#store_500km = pd.HDFStore(\"2021-01-02_10-51-23_Test_LOSAnalysis_sat_500km_97deg_to_Telesat.h5\")\n",
    "store_500km = pd.HDFStore(\"2021-01-02_11-39-41_Test_LOSAnalysis_sat_500km_97deg_to_Telesat.h5\")\n",
    "instances_500km_df = store_500km.select('contact_instances', 'columns = %s' % str(columns))"
   ],
   "metadata": {
    "collapsed": false,
    "pycharm": {
     "name": "#%%\n"
    }
   }
  },
  {
   "cell_type": "code",
   "execution_count": 38,
   "outputs": [],
   "source": [
    "#store_400km = pd.HDFStore(\"Test_LOSAnalysis_sat_400km_51deg_to_Telesat_2020-12-31_08-50-33.h5\")\n",
    "#store_400km = pd.HDFStore(\"2021-01-02_10-51-17_Test_LOSAnalysis_sat_400km_51deg_to_Telesat.h5\")\n",
    "store_400km = pd.HDFStore(\"2021-01-02_11-39-35_Test_LOSAnalysis_sat_400km_51deg_to_Telesat.h5\")\n",
    "instances_400km_df = store_400km.select('contact_instances', 'columns = %s' % str(columns))"
   ],
   "metadata": {
    "collapsed": false,
    "pycharm": {
     "name": "#%%\n"
    }
   }
  },
  {
   "cell_type": "code",
   "execution_count": 39,
   "outputs": [],
   "source": [
    "pass_500km_df = generate_pass_df(instances_500km_df)\n",
    "gaps_500km_df = generate_gap_df(instances_500km_df)\n",
    "\n",
    "pass_400km_df = generate_pass_df(instances_400km_df)\n",
    "gaps_400km_df = generate_gap_df(instances_400km_df)"
   ],
   "metadata": {
    "collapsed": false,
    "pycharm": {
     "name": "#%%\n"
    }
   }
  },
  {
   "cell_type": "code",
   "execution_count": 40,
   "outputs": [
    {
     "data": {
      "text/plain": "<Figure size 230.4x172.8 with 1 Axes>",
      "image/png": "[encoded data removed]"
     },
     "metadata": {
      "needs_background": "light"
     },
     "output_type": "display_data"
    },
    {
     "data": {
      "text/plain": "<Figure size 230.4x172.8 with 1 Axes>",
      "image/png": "[encoded data removed]"
     },
     "metadata": {
      "needs_background": "light"
     },
     "output_type": "display_data"
    }
   ],
   "source": [
    "def contact_timeline(pass_df):\n",
    "    fig, ax = plt.subplots(tight_layout=True, figsize=(3.2, 2.4))\n",
    "\n",
    "    tof_max = 3*5677.0\n",
    "\n",
    "    tofs = np.arange(tof_max)\n",
    "\n",
    "    def satellites_in_view(pass_df, tofs):\n",
    "        num_in_view = np.zeros((len(tofs), ))\n",
    "        for i, tof in enumerate(tofs):\n",
    "            in_view = (pass_df['start_tof'] <= tof) & (tof <= pass_df['end_tof'])\n",
    "            num_in_view[i] = in_view.sum()\n",
    "        return num_in_view\n",
    "\n",
    "    ax.step(tofs, satellites_in_view(pass_df, tofs), linewidth=0.5)\n",
    "    ax.set_xlim((0, tof_max))\n",
    "    ax.set_ylim((0, 25))\n",
    "    ax.set_xlabel('Time-of-flight [s]')\n",
    "    ax.set_ylabel('Satellites in view')\n",
    "    ax.grid(linestyle=':', linewidth = 0.1)\n",
    "    apply_report_formatting()\n",
    "\n",
    "    #plt.show()\n",
    "\n",
    "contact_timeline(pass_500km_df)\n",
    "plt.savefig(figures_dir + '/Telesat_in_view_500km97deg.pgf')\n",
    "plt.savefig(figures_dir + '/Telesat_in_view_500km97deg.svg')\n",
    "plt.show()\n",
    "\n",
    "contact_timeline(pass_400km_df)\n",
    "plt.savefig(figures_dir + '/Telesat_in_view_400km51deg.pgf')\n",
    "plt.savefig(figures_dir + '/Telesat_in_view_400km51deg.svg')\n",
    "plt.show()"
   ],
   "metadata": {
    "collapsed": false,
    "pycharm": {
     "name": "#%% # Contact timeline\n"
    }
   }
  },
  {
   "cell_type": "code",
   "execution_count": 41,
   "outputs": [
    {
     "data": {
      "text/plain": "<Figure size 230.4x172.8 with 1 Axes>",
      "image/png": "[encoded data removed]"
     },
     "metadata": {
      "needs_background": "light"
     },
     "output_type": "display_data"
    },
    {
     "data": {
      "text/plain": "<Figure size 230.4x172.8 with 1 Axes>",
      "image/png": "[encoded data removed]"
     },
     "metadata": {
      "needs_background": "light"
     },
     "output_type": "display_data"
    }
   ],
   "source": [
    "def plot_pass_temporal_distribution(pass_df, bin_size = 5.0):\n",
    "\n",
    "    durations_np = pass_df.duration.to_numpy()\n",
    "\n",
    "    bins = int(np.max(durations_np))\n",
    "    bins = int(bins / bin_size) # x second bins\n",
    "    count = len(durations_np)\n",
    "\n",
    "    fig, ax = plt.subplots(tight_layout=True, figsize=(3.2, 2.4))\n",
    "\n",
    "    ax.plot(np.NaN, np.NaN, '-', color='none', label='$N_{pass} = %d$' % (count))\n",
    "    ax.plot(np.NaN, np.NaN, '-', color='none', label='$t_{bin} = %ds$' % (bin_size))\n",
    "\n",
    "    # Split into polar and inclined orbits\n",
    "    polar_sat = np.isclose(pass_df.r_b_norm - Earth.R_mean.to(u.m).value, 1015*1000)\n",
    "    inc_sat = np.isclose(pass_df.r_b_norm - Earth.R_mean.to(u.m).value, 1325*1000)\n",
    "\n",
    "    durations_np = [durations_np[polar_sat], durations_np[inc_sat]]\n",
    "\n",
    "    n, bins, patches = ax.hist(durations_np,\n",
    "                               bins=bins,\n",
    "                               histtype='bar',\n",
    "                               stacked=True,\n",
    "                               color=[\"#0074D9\", \"#FF4136\"],\n",
    "                               label=['Polar (N=%d)' % polar_sat.sum(),\n",
    "                                      'Inclined (N=%d)' % inc_sat.sum()])\n",
    "\n",
    "    ax.set_xlabel('Duration of pass [s]')\n",
    "    ax.set_ylabel('Occurrences in 7 days')\n",
    "    ax.set_xlim((0, ax.get_xlim()[1]))\n",
    "\n",
    "    #average = np.average(durations_np)\n",
    "    #std_dev = np.std(durations_np)\n",
    "\n",
    "    # ax.text(0.5, 0.90,\n",
    "    #         '$N_{pass} = %d$\\n' % (count) +\n",
    "    #         '$t_{bin} = %ds$' % (bin_size),\n",
    "    #      horizontalalignment='left',\n",
    "    #      verticalalignment='top',\n",
    "    #      transform = ax.transAxes)\n",
    "\n",
    "\n",
    "\n",
    "    ax.legend(loc='upper right', frameon=False, labelspacing=0.1, fontsize=8)\n",
    "\n",
    "plot_pass_temporal_distribution(pass_500km_df)\n",
    "apply_report_formatting()\n",
    "plt.savefig(figures_dir + '/Telesat_pass_distribution_500km97deg.pgf')\n",
    "plt.show()\n",
    "\n",
    "plot_pass_temporal_distribution(pass_400km_df)\n",
    "apply_report_formatting()\n",
    "plt.savefig(figures_dir + '/Telesat_pass_distribution_400km51deg.pgf')\n",
    "plt.show()"
   ],
   "metadata": {
    "collapsed": false,
    "pycharm": {
     "name": "#%% Pass duration distribution\n"
    }
   }
  },
  {
   "cell_type": "code",
   "source": [
    "def plot_gap_temporal_distribution(gaps_df, bin_size = 5.0):\n",
    "\n",
    "    durations_np = gaps_df.duration.to_numpy()\n",
    "    count = len(durations_np)\n",
    "\n",
    "    fig, ax = plt.subplots(tight_layout=True, figsize=(3.2, 2.4))\n",
    "\n",
    "    ax.plot(np.NaN, np.NaN, '-', color='none', label='$N_{gap} = %d$' % (count))\n",
    "    ax.plot(np.NaN, np.NaN, '-', color='none', label='$t_{bin} = %ds$' % (bin_size))\n",
    "\n",
    "    ax.set_xlabel('Duration of gap [s]')\n",
    "    ax.set_ylabel('Occurrences in 7 days')\n",
    "    ax.legend(loc='upper right', frameon=False, labelspacing=0.1, fontsize=8)\n",
    "\n",
    "    if len(durations_np) == 0:\n",
    "        ax.text(0.5, 0.50,\n",
    "            'No gaps',\n",
    "             horizontalalignment='center',\n",
    "             verticalalignment='center',\n",
    "             transform = ax.transAxes)\n",
    "        ax.set_xlim((0,1))\n",
    "        ax.set_ylim((0,1))\n",
    "\n",
    "        return\n",
    "\n",
    "    bins = int(np.max(durations_np))\n",
    "    bins = int(bins / bin_size) # x second bins\n",
    "\n",
    "    n, bins, patches = ax.hist(durations_np,\n",
    "                               bins=bins,\n",
    "                               stacked=True,\n",
    "                               color = \"tab:orange\",\n",
    "                               lw=0,\n",
    "                               label='Gaps')\n",
    "\n",
    "\n",
    "    ax.set_xlim((0, ax.get_xlim()[1]))\n",
    "\n",
    "    average = np.average(durations_np)\n",
    "    std_dev = np.std(durations_np)\n",
    "\n",
    "plot_gap_temporal_distribution(gaps_500km_df)\n",
    "plt.savefig(figures_dir + '/Telesat_gap_distribution_500km97deg.pgf')\n",
    "plt.show()\n",
    "\n",
    "plot_gap_temporal_distribution(gaps_400km_df)\n",
    "plt.savefig(figures_dir + '/Telesat_gap_distribution_400km51deg.pgf')\n",
    "plt.show()"
   ],
   "metadata": {
    "collapsed": false,
    "pycharm": {
     "name": "#%% Gap duration distribution\n"
    }
   },
   "outputs": [
    {
     "data": {
      "text/plain": "<Figure size 230.4x172.8 with 1 Axes>",
      "image/png": "[encoded data removed]"
     },
     "metadata": {
      "needs_background": "light"
     },
     "output_type": "display_data"
    },
    {
     "data": {
      "text/plain": "<Figure size 230.4x172.8 with 1 Axes>",
      "image/png": "[encoded data removed]"
     },
     "metadata": {
      "needs_background": "light"
     },
     "output_type": "display_data"
    }
   ],
   "execution_count": 42
  },
  {
   "cell_type": "code",
   "execution_count": 43,
   "outputs": [
    {
     "data": {
      "text/plain": "<Figure size 230.4x172.8 with 1 Axes>",
      "image/png": "[encoded data removed]"
     },
     "metadata": {
      "needs_background": "light"
     },
     "output_type": "display_data"
    }
   ],
   "source": [
    "def plot_pass_gap_temporal_distribution(pass_df, gap_df, bin_size = 5.0):\n",
    "\n",
    "    fig, ax = plt.subplots(tight_layout=True, figsize=(3.2, 2.4))\n",
    "\n",
    "    pass_durations_np = pass_df.duration.to_numpy()\n",
    "\n",
    "    bins = int(np.max(pass_durations_np))\n",
    "    bins = int(bins / bin_size) # x second bins\n",
    "\n",
    "    n, bins, patches = ax.hist(pass_durations_np, bins=bins, stacked=True)\n",
    "\n",
    "    gap_durations_np = gap_df.duration.to_numpy()\n",
    "\n",
    "    bins = int(np.max(gap_durations_np))\n",
    "    bins = int(bins / bin_size) # x second bins\n",
    "\n",
    "    n, bins, patches = ax.hist(-1*gap_durations_np, bins=bins, stacked=True)\n",
    "\n",
    "    # Move left y-axis and bottim x-axis to centre, passing through (0,0)\n",
    "    ax.spines['left'].set_position('zero')\n",
    "    #ax.spines['bottom'].set_position('center')\n",
    "\n",
    "    # Eliminate upper and right axes\n",
    "    ax.spines['right'].set_color('none')\n",
    "    ax.spines['top'].set_color('none')\n",
    "\n",
    "    # Show ticks in the left and lower axes only\n",
    "    ax.xaxis.set_ticks_position('bottom')\n",
    "    ax.yaxis.set_ticks_position('left')\n",
    "\n",
    "    ax.set_xlim(max(pass_durations_np.max(), gap_durations_np.max()) * np.array([-1, 1]))\n",
    "    #ax.set_yscale('log')\n",
    "    #ax.set_xscale('log')\n",
    "    ax.set_xlabel('Pass duration [s]')\n",
    "    #ax.set_xticks(abs(ax.get_xticks()))\n",
    "    #ax.set_xticklabels([''] + str(abs(ax.get_xticks())))\n",
    "\n",
    "plot_pass_gap_temporal_distribution(pass_500km_df, gaps_500km_df)\n",
    "pass"
   ],
   "metadata": {
    "collapsed": false,
    "pycharm": {
     "name": "#%%\n"
    }
   }
  },
  {
   "cell_type": "code",
   "execution_count": 44,
   "outputs": [
    {
     "data": {
      "text/plain": "<Figure size 230.4x172.8 with 1 Axes>",
      "image/png": "[encoded data removed]"
     },
     "metadata": {
      "needs_background": "light"
     },
     "output_type": "display_data"
    },
    {
     "data": {
      "text/plain": "<Figure size 230.4x172.8 with 1 Axes>",
      "image/png": "[encoded data removed]"
     },
     "metadata": {
      "needs_background": "light"
     },
     "output_type": "display_data"
    }
   ],
   "source": [
    "def plot_pass_spatial_occurance_distribution(pass_df):\n",
    "\n",
    "    fig, ax = plt.subplots(tight_layout=True, figsize=(3.2, 2.4))\n",
    "\n",
    "    llat = pass_df['r_a_lat']\n",
    "\n",
    "    bin_width = 10\n",
    "    bins_llat = np.arange(min(llat), max(llat) + bin_width, bin_width)\n",
    "\n",
    "    n, bins, patches = ax.hist(llat,\n",
    "                            stacked=True,\n",
    "                            #density=True,\n",
    "                            bins=bins_llat,\n",
    "                            color = \"tab:orange\",\n",
    "                            lw=0,\n",
    "                            label='Gaps')\n",
    "\n",
    "    ax.set_xlim((-90, 90))\n",
    "\n",
    "\n",
    "plot_pass_spatial_occurance_distribution(pass_500km_df)\n",
    "plt.show()\n",
    "\n",
    "plot_pass_spatial_occurance_distribution(pass_400km_df)\n",
    "plt.show()"
   ],
   "metadata": {
    "collapsed": false,
    "pycharm": {
     "name": "#%%\n"
    }
   }
  },
  {
   "cell_type": "code",
   "execution_count": 45,
   "outputs": [
    {
     "data": {
      "text/plain": "<Figure size 230.4x172.8 with 1 Axes>",
      "image/png": "[encoded data removed]"
     },
     "metadata": {
      "needs_background": "light"
     },
     "output_type": "display_data"
    },
    {
     "data": {
      "text/plain": "<Figure size 230.4x172.8 with 1 Axes>",
      "image/png": "[encoded data removed]"
     },
     "metadata": {
      "needs_background": "light"
     },
     "output_type": "display_data"
    }
   ],
   "source": [
    "def plot_pass_spatial_temporal_distribution(pass_df):\n",
    "\n",
    "    fig, ax = plt.subplots(tight_layout=True, figsize=(3.2, 2.4))\n",
    "\n",
    "    llat = pass_df['r_a_lat']\n",
    "    durations = pass_df['duration']\n",
    "\n",
    "    bin_width = 5\n",
    "    bins_llat = np.arange(min(llat), max(llat) + bin_width, bin_width)\n",
    "\n",
    "    bin_min, bin_edges, binnumber = stats.binned_statistic(\n",
    "                llat,\n",
    "                durations,\n",
    "                statistic='min', bins=bins_llat)\n",
    "\n",
    "    bin_mean, bin_edges, binnumber = stats.binned_statistic(\n",
    "                llat,\n",
    "                durations,\n",
    "                statistic='mean', bins=bins_llat)\n",
    "\n",
    "    bin_max, bin_edges, binnumber = stats.binned_statistic(\n",
    "                llat,\n",
    "                durations,\n",
    "                statistic='max', bins=bins_llat)\n",
    "\n",
    "    bin_sum, bin_edges, binnumber = stats.binned_statistic(\n",
    "                llat,\n",
    "                durations,\n",
    "                statistic='sum', bins=bins_llat)\n",
    "    bin_sum = bin_sum / 60 / 60\n",
    "\n",
    "    x = (bin_edges[:-1] + bin_edges[1:])/2\n",
    "    w = bin_edges[1:] - bin_edges[:-1]\n",
    "    ax.bar(x, bin_sum, w)\n",
    "\n",
    "    ax.set_xticks(np.arange(-90, 90, 30))\n",
    "\n",
    "    #ax.hlines(bin_sum, bin_edges[:-1], bin_edges[1:], colors='g', lw=2,\n",
    "    #           label='binned statistic of data')\n",
    "    #ax.plot((bin_edges[:-1] + bin_edges[1:])/2, bin_sum)\n",
    "    #\n",
    "    # y = bin_mean\n",
    "    #\n",
    "    # y_pos = bin_max - bin_mean\n",
    "    # y_neg = -1*(bin_mean - bin_min)\n",
    "    # plt.errorbar(x, y, yerr=np.array([-1*y_neg, y_pos]),\n",
    "    #          label='uplims=True, lolims=True')\n",
    "\n",
    "    ax.set_xlim((-90, 90))\n",
    "\n",
    "plot_pass_spatial_temporal_distribution(pass_500km_df)\n",
    "plt.show()\n",
    "\n",
    "plot_pass_spatial_temporal_distribution(pass_400km_df)\n",
    "plt.show()"
   ],
   "metadata": {
    "collapsed": false,
    "pycharm": {
     "name": "#%%\n"
    }
   }
  },
  {
   "cell_type": "code",
   "execution_count": 46,
   "outputs": [],
   "source": [
    "def generate_single_tof_df(instances_df):\n",
    "\n",
    "    # We first reduce the data set to a single entry per tof (as the satellite is only at one position\n",
    "    # at a time of flight\n",
    "    single_tof_df = instances_df.groupby(['tof'], as_index = False).first(1)\n",
    "\n",
    "    # Then we calculate the lat-longs\n",
    "    epoch = time.Time('J2017', scale='tt')\n",
    "    obs_times = epoch + single_tof_df['tof'].values * u.s\n",
    "    gcrs_xyz = GCRS(x=single_tof_df['r_a_x'], y=single_tof_df['r_a_y'], z=single_tof_df['r_a_z'],\n",
    "                    obstime=obs_times, representation_type=CartesianRepresentation)\n",
    "    itrs_xyz = gcrs_xyz.transform_to(ITRS(obstime=obs_times))\n",
    "    itrs_latlon = itrs_xyz.represent_as(SphericalRepresentation)\n",
    "\n",
    "    single_tof_df['r_a_lat'] = itrs_latlon.lat.to(u.deg)\n",
    "    single_tof_df['r_a_lon'] = ((itrs_latlon.lon + np.pi * u.rad) % (2*np.pi * u.rad) - np.pi * u.rad).to(u.deg)\n",
    "\n",
    "    return single_tof_df\n",
    "\n",
    "single_tof_500km_df = generate_single_tof_df(instances_500km_df)\n",
    "single_tof_400km_df = generate_single_tof_df(instances_400km_df)"
   ],
   "metadata": {
    "collapsed": false,
    "pycharm": {
     "name": "#%%\n"
    }
   }
  },
  {
   "cell_type": "code",
   "execution_count": null,
   "outputs": [],
   "source": [
    "def plot_contact_time_spatial_distribution(single_tof_df):\n",
    "\n",
    "    # Each lat-long in the df now indicates that there is los at that lat-long at that time\n",
    "    # Next we plot them on a map counting the amount\n",
    "    fig = plt.figure(figsize=(12,8))\n",
    "    ax = plt.axes(projection=ccrs.PlateCarree())\n",
    "    ax.coastlines()\n",
    "    ax.gridlines(draw_labels=True)\n",
    "\n",
    "    bin_width = 1\n",
    "    bins_llon = np.arange(-180, 180 + bin_width, bin_width)\n",
    "    bins_llat = np.arange(-90, 90 + bin_width, bin_width)\n",
    "\n",
    "    counts, xedges, yedges, im = ax.hist2d(single_tof_df['r_a_lon'], single_tof_df['r_a_lat'],\n",
    "              bins=[bins_llon, bins_llat],\n",
    "              #cmap=plt.get_cmap('coolwarm')\n",
    "              )\n",
    "    # Add the colorbar axes anywhere in the figure. Its position will be\n",
    "    # re-calculated at each figure resize.\n",
    "    #cbar_ax = fig.add_axes([0, 0, 0.1, 0.1])\n",
    "\n",
    "    cax,kw = matplotlib.colorbar.make_axes(ax,location='bottom',pad=0.05,shrink=0.7)\n",
    "    out=fig.colorbar(im,cax=cax,extend='both',**kw)\n",
    "\n",
    "    #plt.colorbar(im, cax = cbar_ax)\n",
    "    ax.set_extent([-180, 180, -90, 90])\n",
    "\n",
    "plot_contact_time_spatial_distribution(single_tof_500km_df)\n",
    "plt.savefig(figures_dir + '/Telesat_spatial_distribution_500km97deg.svg')\n",
    "plt.savefig(figures_dir + '/Telesat_spatial_distribution_500km97deg.pgf')\n",
    "plt.show()\n",
    "\n",
    "plot_contact_time_spatial_distribution(single_tof_400km_df)\n",
    "plt.savefig(figures_dir + '/Telesat_spatial_distribution_400km51deg.svg')\n",
    "plt.savefig(figures_dir + '/Telesat_spatial_distribution_400km51deg.pgf')\n",
    "plt.show()"
   ],
   "metadata": {
    "collapsed": false,
    "pycharm": {
     "name": "#%%\n",
     "is_executing": true
    }
   }
  },
  {
   "cell_type": "code",
   "execution_count": null,
   "outputs": [],
   "source": [
    "def plot_temporal_coverage(instances_df, pass_df, t_end = None, min_durations=np.arange(0, 315, 15)):\n",
    "\n",
    "    if t_end is None:\n",
    "        t_end = instances_df['tof'].values[-1]\n",
    "\n",
    "    percentages = np.zeros((len(min_durations),))\n",
    "\n",
    "    for i, min_duration in enumerate(min_durations):\n",
    "\n",
    "        # First we find which passes are long enough to include:\n",
    "        long_passes = pass_df[pass_df.duration > min_duration]\n",
    "\n",
    "        # And use that to filter the instances\n",
    "        long_instances_df = instances_df[instances_df.index.isin(long_passes.index, level='p')]\n",
    "\n",
    "        # Then we compute the gaps\n",
    "        long_gap_df = generate_gap_df(long_instances_df)\n",
    "\n",
    "        # Then we compute the total gap duration\n",
    "        total_gap_duration = long_gap_df[long_gap_df['end_tof'] < t_end].duration.sum()\n",
    "\n",
    "        # And compute the coverage percentage\n",
    "        percentages[i] = 1 - total_gap_duration / t_end\n",
    "\n",
    "    ## DO PLOTTING\n",
    "    fig, ax = plt.subplots(tight_layout=True, figsize=(3.2, 2.4))\n",
    "    ax.plot(min_durations, percentages * 100, '-+', linewidth=0.5)\n",
    "    ax.set_xlabel('Minimum contact time [s]')\n",
    "    ax.set_ylabel('Coverage [%]')\n",
    "    ax.grid(linestyle=':', linewidth=0.1)\n",
    "    ax.set_xlim((0, max(min_durations)))\n",
    "    apply_report_formatting()\n",
    "\n",
    "plot_temporal_coverage(instances_500km_df, pass_500km_df)\n",
    "plt.savefig(figures_dir + '/Telesat_coverage_vs_time_500km97deg.svg')\n",
    "plt.savefig(figures_dir + '/Telesat_coverage_vs_time_500km97deg.pgf')\n",
    "plt.show()\n",
    "\n",
    "plot_temporal_coverage(instances_400km_df, pass_400km_df)\n",
    "plt.savefig(figures_dir + '/Telesat_coverage_vs_time_400km51deg.svg')\n",
    "plt.savefig(figures_dir + '/Telesat_coverage_vs_time_400km51deg.pgf')\n",
    "plt.show()"
   ],
   "metadata": {
    "collapsed": false,
    "pycharm": {
     "name": "#%%\n",
     "is_executing": true
    }
   }
  },
  {
   "cell_type": "code",
   "execution_count": null,
   "outputs": [],
   "source": [
    "def plot_coverage_spatial(coverage_df):\n",
    "\n",
    "    # Calculate lat longs\n",
    "    epoch = time.Time('J2017', scale='tt')\n",
    "    obs_times = epoch + coverage_df['tof'].values * u.s\n",
    "    gcrs_xyz = GCRS(x=coverage_df['r_x'], y=coverage_df['r_y'], z=coverage_df['r_z'],\n",
    "                    obstime=obs_times, representation_type=CartesianRepresentation)\n",
    "    itrs_xyz = gcrs_xyz.transform_to(ITRS(obstime=obs_times))\n",
    "    itrs_latlon = itrs_xyz.represent_as(SphericalRepresentation)\n",
    "\n",
    "    coverage_df['r_lat'] = itrs_latlon.lat.to(u.deg)\n",
    "    coverage_df['r_lon'] = ((itrs_latlon.lon + np.pi * u.rad) % (2*np.pi * u.rad) - np.pi * u.rad).to(u.deg)\n",
    "\n",
    "    ## Plotting\n",
    "    fig = plt.figure(figsize=(12,8))\n",
    "    ax = plt.axes(projection=ccrs.PlateCarree())\n",
    "    ax.coastlines()\n",
    "    ax.gridlines(draw_labels=True)\n",
    "\n",
    "\n",
    "    # # f = interp2d(coverage_df['r_lon'].to_numpy(), coverage_df['r_lat'].to_numpy(),\n",
    "    # #                          coverage_df['los'].to_numpy() * 1.0, kind='linear')\n",
    "    step = 1\n",
    "    llon = np.arange(-180, 180 + step, step)\n",
    "    llat = np.arange(-90, 90 + step, step)\n",
    "    # # val = f(llon, llat)\n",
    "    # #\n",
    "    # # llon_mesh, llat_mesh = np.meshgrid(llon, llat)\n",
    "    # # ax.pcolormesh(llon_mesh, llat_mesh, val)\n",
    "    #\n",
    "    # import matplotlib.tri as tri\n",
    "    # triang = tri.Triangulation(coverage_df['r_lon'], coverage_df['r_lat'])\n",
    "    # interpolator = tri.LinearTriInterpolator(triang, coverage_df['los'] * 1.0)\n",
    "    # val = interpolator(llon, llat)\n",
    "    from scipy.interpolate import griddata\n",
    "    val = griddata((coverage_df['r_lon'], coverage_df['r_lat']), coverage_df['num_los'],\n",
    "                   (llon[None,:], llat[:,None]), method='linear')\n",
    "\n",
    "    im = ax.contourf(llon, llat, val, cmap=plt.get_cmap('coolwarm'))\n",
    "\n",
    "    cax,kw = matplotlib.colorbar.make_axes(ax,location='bottom',pad=0.05,shrink=0.7)\n",
    "    out=fig.colorbar(im, cax=cax,extend='both',**kw)\n",
    "\n",
    "    # llon = coverage_df[coverage_df['los']].r_lon\n",
    "    # llat = coverage_df[coverage_df['los']].r_lat\n",
    "    #\n",
    "    # ax.scatter(llon, llat)\n",
    "\n",
    "    #ax.contourf(coverage_df['r_lon'], coverage_df['r_lat'], coverage_df['los'] * 1.0)\n",
    "    # counts, xedges, yedges, im = ax.hist2d(coverage_df['r_lon'], coverage_df['r_lat'],\n",
    "    #       bins=[bins_llon, bins_llat],\n",
    "    #       #cmap=plt.get_cmap('coolwarm')\n",
    "    #       )\n",
    "\n",
    "\n",
    "columns = ['tof', 'r_x', 'r_y', 'r_z', 'num_los']\n",
    "\n",
    "coverage_list = [\n",
    "    (pd.HDFStore('2021-01-03_09-09-00_COVAnalysis-400km.h5'), \"400km\"),\n",
    "    (pd.HDFStore('2021-01-03_09-09-00_COVAnalysis-500km.h5'), \"500km\"),\n",
    "    (pd.HDFStore('2021-01-03_09-09-00_COVAnalysis-1000km.h5'), \"1000km\"),\n",
    "    (pd.HDFStore('2021-01-03_09-09-00_COVAnalysis-1300km.h5'), \"1300km\"),\n",
    "]\n",
    "\n",
    "for coverage_item in coverage_list:\n",
    "    coverage_df = coverage_item[0].select('coverage', 'columns = %s' % str(columns))\n",
    "    plot_coverage_spatial(coverage_df)\n",
    "    #plt.title(coverage_item[1])\n",
    "    plt.savefig(figures_dir + '/Telesat_spatial_coverage_%s.svg' % coverage_item[1])\n",
    "    plt.savefig(figures_dir + '/Telesat_spatial_coverage_%s.pgf' % coverage_item[1])\n",
    "    plt.show()"
   ],
   "metadata": {
    "collapsed": false,
    "pycharm": {
     "name": "#%%\n",
     "is_executing": true
    }
   }
  }
 ],
 "metadata": {
  "kernelspec": {
   "display_name": "Python 3",
   "language": "python",
   "name": "python3"
  },
  "language_info": {
   "codemirror_mode": {
    "name": "ipython",
    "version": 2
   },
   "file_extension": ".py",
   "mimetype": "text/x-python",
   "name": "python",
   "nbconvert_exporter": "python",
   "pygments_lexer": "ipython2",
   "version": "2.7.6"
  }
 },
 "nbformat": 4,
 "nbformat_minor": 0
}