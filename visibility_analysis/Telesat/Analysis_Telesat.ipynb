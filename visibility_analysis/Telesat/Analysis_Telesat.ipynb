{
 "cells": [
  {
   "cell_type": "code",
   "execution_count": 1,
   "outputs": [
    {
     "name": "stderr",
     "output_type": "stream",
     "text": [
      "C:\\git\\hermes-simulator\\cenv\\lib\\site-packages\\astropy\\units\\decorators.py:222: UserWarning: Wrapping true anomaly to -π <= nu < π\n",
      "  return_ = wrapped_function(*func_args, **func_kwargs)\n"
     ]
    }
   ],
   "source": [
    "import hermes\n",
    "from hermes.analysis import CoverageAnalysis\n",
    "from hermes.constellations.Telesat import Telesat_00053\n",
    "from hermes.scenario import Scenario\n",
    "%matplotlib inline\n",
    "\n",
    "from scipy.interpolate import interp2d\n",
    "\n",
    "from astropy.coordinates import GCRS, CartesianRepresentation, ITRS, SphericalRepresentation\n",
    "from scipy import stats\n",
    "\n",
    "import numpy as np\n",
    "import pandas as pd\n",
    "\n",
    "import matplotlib.pyplot as plt\n",
    "import matplotlib\n",
    "from poliastro.bodies import Earth\n",
    "from astropy import units as u, time\n",
    "from notebooks.PlotUtil import apply_report_formatting\n",
    "\n",
    "import cartopy.crs as ccrs\n"
   ],
   "metadata": {
    "collapsed": false,
    "pycharm": {
     "name": "#%%\n"
    }
   }
  },
  {
   "cell_type": "code",
   "execution_count": 2,
   "metadata": {
    "collapsed": true
   },
   "outputs": [],
   "source": [
    "figures_dir = 'D:/git/thesis_report_ae/figures/visibility_analysis'\n",
    "\n",
    "def generate_pass_df(instance_df):\n",
    "    starts = instance_df.groupby(['p', 'strand_name'], as_index = False).first(1)\n",
    "    starts.index.name = 'p'\n",
    "    starts.rename(columns= {'tof': 'start_tof'}, inplace=True)\n",
    "    ends = instance_df.groupby(['p', 'strand_name'], as_index = False).last(1)\n",
    "    ends.index.name = 'p'\n",
    "    ends.rename(columns= {'tof': 'end_tof'}, inplace=True)\n",
    "\n",
    "    pass_df = pd.concat([starts, ends.end_tof], axis=1)\n",
    "    pass_df['duration'] = pass_df['end_tof'] - pass_df['start_tof']\n",
    "\n",
    "    pass_df['r_b_norm'] = np.sqrt(pass_df['r_b_x']**2 + pass_df['r_b_y']**2 + pass_df['r_b_z']**2)\n",
    "\n",
    "    epoch = time.Time('J2017', scale='tt')\n",
    "    obs_times = epoch + pass_df['start_tof'].values * u.s\n",
    "\n",
    "    gcrs_xyz = GCRS(x=pass_df['r_a_x'], y=pass_df['r_a_y'], z=pass_df['r_a_z'],\n",
    "                    obstime=obs_times, representation_type=CartesianRepresentation)\n",
    "    itrs_xyz = gcrs_xyz.transform_to(ITRS(obstime=obs_times))\n",
    "    itrs_latlon = itrs_xyz.represent_as(SphericalRepresentation)\n",
    "\n",
    "    pass_df['r_a_lat'] = itrs_latlon.lat.to(u.deg)\n",
    "    pass_df['r_a_lon'] = itrs_latlon.lon.to(u.deg)\n",
    "\n",
    "    return pass_df\n",
    "\n",
    "def generate_gap_df(instances_df, step_duration = 1.0, end_tof = None):\n",
    "\n",
    "    unique_tofs = instances_df['tof'].unique()\n",
    "    gap_indexes = np.squeeze(np.argwhere(np.diff(unique_tofs) > 1.5 * step_duration))\n",
    "\n",
    "    start_tof = unique_tofs[gap_indexes]\n",
    "    end_tof = unique_tofs[gap_indexes + 1]\n",
    "    duration = end_tof - start_tof\n",
    "    gaps_dict = {'start_tof': start_tof,\n",
    "                'end_tof': end_tof,\n",
    "                'duration': duration}\n",
    "\n",
    "    gaps_df = pd.DataFrame(gaps_dict, index=list(range(len(start_tof))) if isinstance(start_tof, np.ndarray) else [0])\n",
    "    gaps_df.index.name = 'g'\n",
    "    return gaps_df"
   ]
  },
  {
   "cell_type": "markdown",
   "source": [
    "# Telesat"
   ],
   "metadata": {
    "collapsed": false
   }
  },
  {
   "cell_type": "code",
   "execution_count": 3,
   "outputs": [],
   "source": [
    "columns = ['strand_name', 'tof', 'r_a_x', 'r_a_y', 'r_a_z', 'r_b_x', 'r_b_y', 'r_b_z']\n",
    "\n",
    "#store_500km = pd.HDFStore(\"Test_LOSAnalysis_sat_500km_90deg_to_Telesat_2020-12-31_08-50-39.h5\")\n",
    "#store_500km = pd.HDFStore(\"2021-01-02_10-51-23_Test_LOSAnalysis_sat_500km_97deg_to_Telesat.h5\")\n",
    "store_500km = pd.HDFStore(\"2021-01-02_11-39-41_Test_LOSAnalysis_sat_500km_97deg_to_Telesat.h5\")\n",
    "instances_500km_df = store_500km.select('contact_instances', 'columns = %s' % str(columns))"
   ],
   "metadata": {
    "collapsed": false,
    "pycharm": {
     "name": "#%%\n"
    }
   }
  },
  {
   "cell_type": "code",
   "execution_count": 4,
   "outputs": [],
   "source": [
    "#store_400km = pd.HDFStore(\"Test_LOSAnalysis_sat_400km_51deg_to_Telesat_2020-12-31_08-50-33.h5\")\n",
    "#store_400km = pd.HDFStore(\"2021-01-02_10-51-17_Test_LOSAnalysis_sat_400km_51deg_to_Telesat.h5\")\n",
    "store_400km = pd.HDFStore(\"2021-01-02_11-39-35_Test_LOSAnalysis_sat_400km_51deg_to_Telesat.h5\")\n",
    "instances_400km_df = store_400km.select('contact_instances', 'columns = %s' % str(columns))"
   ],
   "metadata": {
    "collapsed": false,
    "pycharm": {
     "name": "#%%\n"
    }
   }
  },
  {
   "cell_type": "code",
   "execution_count": 5,
   "outputs": [],
   "source": [
    "pass_500km_df = generate_pass_df(instances_500km_df)\n",
    "gaps_500km_df = generate_gap_df(instances_500km_df)\n",
    "\n",
    "pass_400km_df = generate_pass_df(instances_400km_df)\n",
    "gaps_400km_df = generate_gap_df(instances_400km_df)"
   ],
   "metadata": {
    "collapsed": false,
    "pycharm": {
     "name": "#%%\n"
    }
   }
  },
  {
   "cell_type": "code",
   "execution_count": 6,
   "outputs": [
    {
     "data": {
      "text/plain": "<Figure size 230.4x172.8 with 1 Axes>",
      "image/png": "[encoded data removed]"
     },
     "metadata": {
      "needs_background": "light"
     },
     "output_type": "display_data"
    },
    {
     "data": {
      "text/plain": "<Figure size 230.4x172.8 with 1 Axes>",
      "image/png": "[encoded data removed]"
     },
     "metadata": {
      "needs_background": "light"
     },
     "output_type": "display_data"
    }
   ],
   "source": [
    "def contact_timeline(pass_df):\n",
    "    fig, ax = plt.subplots(tight_layout=True, figsize=(3.2, 2.4))\n",
    "\n",
    "    tof_max = 3*5677.0\n",
    "\n",
    "    tofs = np.arange(tof_max)\n",
    "\n",
    "    def satellites_in_view(pass_df, tofs):\n",
    "        num_in_view = np.zeros((len(tofs), ))\n",
    "        for i, tof in enumerate(tofs):\n",
    "            in_view = (pass_df['start_tof'] <= tof) & (tof <= pass_df['end_tof'])\n",
    "            num_in_view[i] = in_view.sum()\n",
    "        return num_in_view\n",
    "\n",
    "    ax.step(tofs, satellites_in_view(pass_df, tofs), linewidth=0.5)\n",
    "    ax.set_xlim((0, tof_max))\n",
    "    ax.set_ylim((0, 25))\n",
    "    ax.set_xlabel('Time-of-flight [s]')\n",
    "    ax.set_ylabel('Satellites in view')\n",
    "    ax.grid(linestyle=':', linewidth = 0.1)\n",
    "    apply_report_formatting()\n",
    "\n",
    "    #plt.show()\n",
    "\n",
    "contact_timeline(pass_500km_df)\n",
    "plt.savefig(figures_dir + '/Telesat_in_view_500km97deg.pgf')\n",
    "plt.savefig(figures_dir + '/Telesat_in_view_500km97deg.svg')\n",
    "plt.show()\n",
    "\n",
    "contact_timeline(pass_400km_df)\n",
    "plt.savefig(figures_dir + '/Telesat_in_view_400km51deg.pgf')\n",
    "plt.savefig(figures_dir + '/Telesat_in_view_400km51deg.svg')\n",
    "plt.show()"
   ],
   "metadata": {
    "collapsed": false,
    "pycharm": {
     "name": "#%% # Contact timeline\n"
    }
   }
  },
  {
   "cell_type": "code",
   "execution_count": 7,
   "outputs": [
    {
     "data": {
      "text/plain": "<Figure size 230.4x172.8 with 1 Axes>",
      "image/png": "[encoded data removed]"
     },
     "metadata": {
      "needs_background": "light"
     },
     "output_type": "display_data"
    },
    {
     "data": {
      "text/plain": "<Figure size 230.4x172.8 with 1 Axes>",
      "image/png": "[encoded data removed]"
     },
     "metadata": {
      "needs_background": "light"
     },
     "output_type": "display_data"
    }
   ],
   "source": [
    "def plot_pass_temporal_distribution(pass_df, bin_size = 5.0):\n",
    "\n",
    "    durations_np = pass_df.duration.to_numpy()\n",
    "\n",
    "    bins = int(np.max(durations_np))\n",
    "    bins = int(bins / bin_size) # x second bins\n",
    "    count = len(durations_np)\n",
    "\n",
    "    fig, ax = plt.subplots(tight_layout=True, figsize=(3.2, 2.4))\n",
    "\n",
    "    ax.plot(np.NaN, np.NaN, '-', color='none', label='$N_{pass} = %d$' % (count))\n",
    "    ax.plot(np.NaN, np.NaN, '-', color='none', label='$t_{bin} = %ds$' % (bin_size))\n",
    "\n",
    "    # Split into polar and inclined orbits\n",
    "    polar_sat = np.isclose(pass_df.r_b_norm - Earth.R_mean.to(u.m).value, 1015*1000)\n",
    "    inc_sat = np.isclose(pass_df.r_b_norm - Earth.R_mean.to(u.m).value, 1325*1000)\n",
    "\n",
    "    durations_np = [durations_np[polar_sat], durations_np[inc_sat]]\n",
    "\n",
    "    n, bins, patches = ax.hist(durations_np,\n",
    "                               bins=bins,\n",
    "                               histtype='bar',\n",
    "                               stacked=True,\n",
    "                               color=[\"#0074D9\", \"#FF4136\"],\n",
    "                               label=['Polar (N=%d)' % polar_sat.sum(),\n",
    "                                      'Inclined (N=%d)' % inc_sat.sum()])\n",
    "\n",
    "    ax.set_xlabel('Duration of pass [s]')\n",
    "    ax.set_ylabel('Occurrences in 7 days')\n",
    "    ax.set_xlim((0, ax.get_xlim()[1]))\n",
    "\n",
    "    ax.legend(loc='upper right', frameon=False, labelspacing=0.1, fontsize=8)\n",
    "\n",
    "plot_pass_temporal_distribution(pass_500km_df)\n",
    "apply_report_formatting()\n",
    "plt.savefig(figures_dir + '/Telesat_pass_distribution_500km97deg.pgf')\n",
    "plt.show()\n",
    "\n",
    "plot_pass_temporal_distribution(pass_400km_df)\n",
    "apply_report_formatting()\n",
    "plt.savefig(figures_dir + '/Telesat_pass_distribution_400km51deg.pgf')\n",
    "plt.show()"
   ],
   "metadata": {
    "collapsed": false,
    "pycharm": {
     "name": "#%% Pass duration distribution\n"
    }
   }
  },
  {
   "cell_type": "code",
   "source": [
    "def plot_gap_temporal_distribution(gaps_df, bin_size = 5.0):\n",
    "\n",
    "    durations_np = gaps_df.duration.to_numpy()\n",
    "    count = len(durations_np)\n",
    "\n",
    "    fig, ax = plt.subplots(tight_layout=True, figsize=(3.2, 2.4))\n",
    "\n",
    "    ax.plot(np.NaN, np.NaN, '-', color='none', label='$N_{gap} = %d$' % (count))\n",
    "    ax.plot(np.NaN, np.NaN, '-', color='none', label='$t_{bin} = %ds$' % (bin_size))\n",
    "\n",
    "    ax.set_xlabel('Duration of gap [s]')\n",
    "    ax.set_ylabel('Occurrences in 7 days')\n",
    "    ax.legend(loc='upper right', frameon=False, labelspacing=0.1, fontsize=8)\n",
    "\n",
    "    if len(durations_np) == 0:\n",
    "        ax.text(0.5, 0.50,\n",
    "            'No gaps',\n",
    "             horizontalalignment='center',\n",
    "             verticalalignment='center',\n",
    "             transform = ax.transAxes)\n",
    "        ax.set_xlim((0,1))\n",
    "        ax.set_ylim((0,1))\n",
    "\n",
    "        return\n",
    "\n",
    "    bins = int(np.max(durations_np))\n",
    "    bins = int(bins / bin_size) # x second bins\n",
    "\n",
    "    n, bins, patches = ax.hist(durations_np,\n",
    "                               bins=bins,\n",
    "                               stacked=True,\n",
    "                               color = \"tab:orange\",\n",
    "                               lw=0,\n",
    "                               label='Gaps')\n",
    "\n",
    "\n",
    "    ax.set_xlim((0, ax.get_xlim()[1]))\n",
    "\n",
    "    average = np.average(durations_np)\n",
    "    std_dev = np.std(durations_np)\n",
    "\n",
    "plot_gap_temporal_distribution(gaps_500km_df)\n",
    "plt.savefig(figures_dir + '/Telesat_gap_distribution_500km97deg.pgf')\n",
    "plt.show()\n",
    "\n",
    "plot_gap_temporal_distribution(gaps_400km_df)\n",
    "plt.savefig(figures_dir + '/Telesat_gap_distribution_400km51deg.pgf')\n",
    "plt.show()"
   ],
   "metadata": {
    "collapsed": false,
    "pycharm": {
     "name": "#%% Gap duration distribution\n"
    }
   },
   "outputs": [
    {
     "data": {
      "text/plain": "<Figure size 230.4x172.8 with 1 Axes>",
      "image/png": "[encoded data removed]"
     },
     "metadata": {
      "needs_background": "light"
     },
     "output_type": "display_data"
    },
    {
     "data": {
      "text/plain": "<Figure size 230.4x172.8 with 1 Axes>",
      "image/png": "[encoded data removed]"
     },
     "metadata": {
      "needs_background": "light"
     },
     "output_type": "display_data"
    }
   ],
   "execution_count": 8
  },
  {
   "cell_type": "code",
   "execution_count": 9,
   "outputs": [
    {
     "data": {
      "text/plain": "<Figure size 230.4x172.8 with 1 Axes>",
      "image/png": "[encoded data removed]"
     },
     "metadata": {
      "needs_background": "light"
     },
     "output_type": "display_data"
    },
    {
     "data": {
      "text/plain": "<Figure size 230.4x172.8 with 1 Axes>",
      "image/png": "[encoded data removed]"
     },
     "metadata": {
      "needs_background": "light"
     },
     "output_type": "display_data"
    }
   ],
   "source": [
    "def plot_temporal_coverage(instances_df, pass_df, t_end = None, min_durations=np.arange(0, 315, 15)):\n",
    "\n",
    "    if t_end is None:\n",
    "        t_end = instances_df['tof'].values[-1]\n",
    "\n",
    "    percentages = np.zeros((len(min_durations),))\n",
    "\n",
    "    for i, min_duration in enumerate(min_durations):\n",
    "\n",
    "        # First we find which passes are long enough to include:\n",
    "        long_passes = pass_df[pass_df.duration > min_duration]\n",
    "\n",
    "        # And use that to filter the instances\n",
    "        long_instances_df = instances_df[instances_df.index.isin(long_passes.index, level='p')]\n",
    "\n",
    "        # Then we compute the gaps\n",
    "        long_gap_df = generate_gap_df(long_instances_df)\n",
    "\n",
    "        # Then we compute the total gap duration\n",
    "        total_gap_duration = long_gap_df[long_gap_df['end_tof'] < t_end].duration.sum()\n",
    "\n",
    "        # And compute the coverage percentage\n",
    "        percentages[i] = 1 - total_gap_duration / t_end\n",
    "\n",
    "    ## DO PLOTTING\n",
    "    fig, ax = plt.subplots(tight_layout=True, figsize=(3.2, 2.4))\n",
    "    ax.plot(min_durations, percentages * 100, '-+', linewidth=0.5)\n",
    "    ax.set_xlabel('Minimum contact time [s]')\n",
    "    ax.set_ylabel('Coverage [%]')\n",
    "    ax.grid(linestyle=':', linewidth=0.1)\n",
    "    ax.set_xlim((0, max(min_durations)))\n",
    "    apply_report_formatting()\n",
    "\n",
    "plot_temporal_coverage(instances_500km_df, pass_500km_df)\n",
    "plt.savefig(figures_dir + '/Telesat_coverage_vs_time_500km97deg.svg')\n",
    "plt.savefig(figures_dir + '/Telesat_coverage_vs_time_500km97deg.pgf')\n",
    "plt.show()\n",
    "\n",
    "plot_temporal_coverage(instances_400km_df, pass_400km_df)\n",
    "plt.savefig(figures_dir + '/Telesat_coverage_vs_time_400km51deg.svg')\n",
    "plt.savefig(figures_dir + '/Telesat_coverage_vs_time_400km51deg.pgf')\n",
    "plt.show()"
   ],
   "metadata": {
    "collapsed": false,
    "pycharm": {
     "name": "#%%\n"
    }
   }
  },
  {
   "cell_type": "markdown",
   "source": [
    "### Spatial coverage\n",
    "This runs a spatial coverage simulation and analysis at several altitudes using the\n",
    "``hermes.analysis.CoverageAnalysis`` class."
   ],
   "metadata": {
    "collapsed": false,
    "pycharm": {
     "name": "#%% md\n"
    }
   }
  },
  {
   "cell_type": "code",
   "execution_count": null,
   "outputs": [
    {
     "name": "stdout",
     "output_type": "stream",
     "text": [
      "Initializing attractor\n",
      "Initializing 1671 satellites...\n",
      "Initializing analysis 1 of 5...\n"
     ]
    }
   ],
   "source": [
    "def run_spatial_coverage_simulation():\n",
    "\n",
    "    start = time.Time('2019-09-01 10:00:00.000', scale='tt')        # Start time of simulation\n",
    "    stop = time.Time('2019-09-07 10:00:00.000', scale='tt')         # Stop time of simulation\n",
    "    step = 1 * u.s\n",
    "\n",
    "    scenario = Scenario(start, stop, step, hermes.objects.Earth, name='Test')\n",
    "\n",
    "    # Constellation\n",
    "    constellation = Telesat_00053\n",
    "    scenario.add_satellite(constellation)\n",
    "\n",
    "    # Add line-of-sight analysis\n",
    "    analysis = CoverageAnalysis(scenario, constellation, altitude=1300 * u.km)\n",
    "    scenario.add_analysis(analysis)\n",
    "\n",
    "    analysis = CoverageAnalysis(scenario, constellation, altitude=1000 * u.km)\n",
    "    scenario.add_analysis(analysis)\n",
    "\n",
    "    analysis = CoverageAnalysis(scenario, constellation, altitude=750 * u.km)\n",
    "    scenario.add_analysis(analysis)\n",
    "\n",
    "    analysis = CoverageAnalysis(scenario, constellation, altitude=500 * u.km)\n",
    "    scenario.add_analysis(analysis)\n",
    "\n",
    "    analysis = CoverageAnalysis(scenario, constellation, altitude=400 * u.km)\n",
    "    scenario.add_analysis(analysis)\n",
    "\n",
    "    # Initialise the scenario\n",
    "    scenario.initialise()\n",
    "\n",
    "    file_paths = [None] * len(scenario.state.analyses)\n",
    "    altitudes = [None] * len(scenario.state.analyses)\n",
    "\n",
    "    for i, analysis in enumerate(scenario.state.analyses):\n",
    "        writer = analysis.generate_writer(directory = 'raw_data')\n",
    "        writer.initialise()\n",
    "        writer.flush()\n",
    "        file_paths[i] = writer.file_path\n",
    "        altitudes[i] = '%dkm' %analysis.altitude.to(u.km)\n",
    "\n",
    "    return file_paths, altitudes\n",
    "\n",
    "from os import path\n",
    "import pickle\n",
    "\n",
    "if path.isfile('coverage_list.p'):\n",
    "    coverage_list = pickle.load(open('coverage_list.p', 'rb'))\n",
    "else:\n",
    "    coverage_list = run_spatial_coverage_simulation()\n",
    "    pickle.dump(coverage_list, open('coverage_list.p', 'wb'))"
   ],
   "metadata": {
    "collapsed": false,
    "pycharm": {
     "name": "#%% Spatial coverage simulation\n",
     "is_executing": true
    }
   }
  },
  {
   "cell_type": "code",
   "execution_count": null,
   "outputs": [],
   "source": [
    "def plot_coverage_spatial(coverage_df):\n",
    "\n",
    "    # Calculate lat longs\n",
    "    epoch = time.Time('J2017', scale='tt')\n",
    "    obs_times = epoch + coverage_df['tof'].values * u.s\n",
    "    gcrs_xyz = GCRS(x=coverage_df['r_x'], y=coverage_df['r_y'], z=coverage_df['r_z'],\n",
    "                    obstime=obs_times, representation_type=CartesianRepresentation)\n",
    "    itrs_xyz = gcrs_xyz.transform_to(ITRS(obstime=obs_times))\n",
    "    itrs_latlon = itrs_xyz.represent_as(SphericalRepresentation)\n",
    "\n",
    "    coverage_df['r_lat'] = itrs_latlon.lat.to(u.deg)\n",
    "    coverage_df['r_lon'] = ((itrs_latlon.lon + np.pi * u.rad) % (2*np.pi * u.rad) - np.pi * u.rad).to(u.deg)\n",
    "\n",
    "    ## Plotting\n",
    "    fig = plt.figure(figsize=(12,8))\n",
    "    ax = plt.axes(projection=ccrs.PlateCarree())\n",
    "    ax.coastlines()\n",
    "    ax.gridlines(draw_labels=True)\n",
    "\n",
    "    step = 1\n",
    "    llon = np.arange(-180, 180 + step, step)\n",
    "    llat = np.arange(-90, 90 + step, step)\n",
    "\n",
    "    from scipy.interpolate import griddata\n",
    "    val = griddata((coverage_df['r_lon'], coverage_df['r_lat']), coverage_df['num_los'],\n",
    "                   (llon[None,:], llat[:,None]), method='linear')\n",
    "\n",
    "    im = ax.contourf(llon, llat, val, cmap=plt.get_cmap('coolwarm'))\n",
    "\n",
    "    cax,kw = matplotlib.colorbar.make_axes(ax,location='bottom',pad=0.05,shrink=0.7)\n",
    "    out=fig.colorbar(im, cax=cax, **kw)\n",
    "\n",
    "columns = ['tof', 'r_x', 'r_y', 'r_z', 'num_los']\n",
    "\n",
    "for coverage_item in coverage_list:\n",
    "    coverage_df = coverage_item[0].select('coverage', 'columns = %s' % str(columns))\n",
    "    plot_coverage_spatial(coverage_df)\n",
    "    #plt.title(coverage_item[1])\n",
    "    plt.savefig(figures_dir + '/Telesat_spatial_coverage_%s.svg' % coverage_item[1])\n",
    "    plt.savefig(figures_dir + '/Telesat_spatial_coverage_%s.pgf' % coverage_item[1])\n",
    "    plt.savefig(figures_dir + '/Telesat_spatial_coverage_%s.pdf' % coverage_item[1])\n",
    "    plt.show()"
   ],
   "metadata": {
    "collapsed": false,
    "pycharm": {
     "name": "#%% Spatial coverage analysis\n",
     "is_executing": true
    }
   }
  }
 ],
 "metadata": {
  "kernelspec": {
   "display_name": "Python 3",
   "language": "python",
   "name": "python3"
  },
  "language_info": {
   "codemirror_mode": {
    "name": "ipython",
    "version": 2
   },
   "file_extension": ".py",
   "mimetype": "text/x-python",
   "name": "python",
   "nbconvert_exporter": "python",
   "pygments_lexer": "ipython2",
   "version": "2.7.6"
  }
 },
 "nbformat": 4,
 "nbformat_minor": 0
}